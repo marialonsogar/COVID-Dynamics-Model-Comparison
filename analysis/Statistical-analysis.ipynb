{
 "cells": [
  {
   "cell_type": "markdown",
   "metadata": {},
   "source": [
    "https://unit8co.github.io/darts/\n",
    "\n",
    "https://facebookresearch.github.io/Kats/\n",
    "\n",
    "https://github.com/alan-turing-institute/sktime/blob/main/examples/01_forecasting.ipynb\n",
    "\n",
    "https://unit8co.github.io/darts/quickstart/00-quickstart.html"
   ]
  },
  {
   "cell_type": "code",
   "execution_count": 1,
   "metadata": {},
   "outputs": [
    {
     "ename": "ModuleNotFoundError",
     "evalue": "No module named 'sktime'",
     "output_type": "error",
     "traceback": [
      "\u001b[1;31m---------------------------------------------------------------------------\u001b[0m",
      "\u001b[1;31mModuleNotFoundError\u001b[0m                       Traceback (most recent call last)",
      "\u001b[1;32m~\\AppData\\Local\\Temp\\ipykernel_15824\\2802292333.py\u001b[0m in \u001b[0;36m<module>\u001b[1;34m\u001b[0m\n\u001b[0;32m      1\u001b[0m \u001b[1;32mimport\u001b[0m \u001b[0mdarts\u001b[0m\u001b[1;33m\u001b[0m\u001b[1;33m\u001b[0m\u001b[0m\n\u001b[1;32m----> 2\u001b[1;33m \u001b[1;32mimport\u001b[0m \u001b[0msktime\u001b[0m\u001b[1;33m\u001b[0m\u001b[1;33m\u001b[0m\u001b[0m\n\u001b[0m",
      "\u001b[1;31mModuleNotFoundError\u001b[0m: No module named 'sktime'"
     ]
    }
   ],
   "source": [
    "import darts\n",
    "import sktime"
   ]
  },
  {
   "cell_type": "code",
   "execution_count": 5,
   "metadata": {},
   "outputs": [],
   "source": [
    "import pandas as pd\n",
    "# path handling\n",
    "from pathlib import Path\n",
    "\n",
    "# filter warnings\n",
    "import warnings\n",
    "warnings.filterwarnings(\"ignore\")"
   ]
  },
  {
   "cell_type": "markdown",
   "metadata": {},
   "source": [
    "# Setup\n"
   ]
  },
  {
   "cell_type": "code",
   "execution_count": 6,
   "metadata": {},
   "outputs": [],
   "source": [
    "# name of the file\n",
    "file_name = 'spanish-covid-19-data-renave-01Jun2022.csv'\n",
    "\n",
    "# data path\n",
    "base_dir = Path(os.getcwd()).parents[0]\n",
    "\n",
    "# path to read final data\n",
    "path_to_read_final_data = base_dir / 'data' / 'final-data' / file_name\t"
   ]
  },
  {
   "cell_type": "code",
   "execution_count": 13,
   "metadata": {},
   "outputs": [],
   "source": [
    "# Read a pandas DataFrame\n",
    "df = pd.read_csv(path_to_read_final_data)\n",
    "df\n",
    "\n",
    "# Create a TimeSeries, specifying the time and value columns\n",
    "series = darts.TimeSeries.from_dataframe(df, 'Date', 'Infected')\n",
    "\n",
    "# Set aside the last x days as a validation series\n",
    "train, val = series[:-36], series[-36:]"
   ]
  },
  {
   "cell_type": "code",
   "execution_count": 24,
   "metadata": {},
   "outputs": [],
   "source": [
    "from darts.utils.statistics import plot_acf, check_seasonality\n",
    "\n",
    "for m in range(2, 25):\n",
    "    is_seasonal, period = check_seasonality(train, m=m, alpha=0.05)\n",
    "    if is_seasonal:\n",
    "        print(\"There is seasonality of order {}.\".format(period))"
   ]
  },
  {
   "cell_type": "markdown",
   "metadata": {},
   "source": [
    "## Data"
   ]
  },
  {
   "cell_type": "code",
   "execution_count": 2,
   "metadata": {},
   "outputs": [
    {
     "ename": "NameError",
     "evalue": "name 'Path' is not defined",
     "output_type": "error",
     "traceback": [
      "\u001b[1;31m---------------------------------------------------------------------------\u001b[0m",
      "\u001b[1;31mNameError\u001b[0m                                 Traceback (most recent call last)",
      "\u001b[1;32md:\\MUMOMA\\TFM\\COVID\\COVID-Dynamics-Model-Comparison\\analysis\\Statistical-analysis.ipynb Cell 5'\u001b[0m in \u001b[0;36m<cell line: 5>\u001b[1;34m()\u001b[0m\n\u001b[0;32m      <a href='vscode-notebook-cell:/d%3A/MUMOMA/TFM/COVID/COVID-Dynamics-Model-Comparison/analysis/Statistical-analysis.ipynb#ch0000003?line=1'>2</a>\u001b[0m file_name \u001b[39m=\u001b[39m \u001b[39m'\u001b[39m\u001b[39mspanish-covid-19-data-renave-01Jun2022.csv\u001b[39m\u001b[39m'\u001b[39m\n\u001b[0;32m      <a href='vscode-notebook-cell:/d%3A/MUMOMA/TFM/COVID/COVID-Dynamics-Model-Comparison/analysis/Statistical-analysis.ipynb#ch0000003?line=3'>4</a>\u001b[0m \u001b[39m# data path\u001b[39;00m\n\u001b[1;32m----> <a href='vscode-notebook-cell:/d%3A/MUMOMA/TFM/COVID/COVID-Dynamics-Model-Comparison/analysis/Statistical-analysis.ipynb#ch0000003?line=4'>5</a>\u001b[0m base_dir \u001b[39m=\u001b[39m Path(os\u001b[39m.\u001b[39mgetcwd())\u001b[39m.\u001b[39mparents[\u001b[39m0\u001b[39m]\n\u001b[0;32m      <a href='vscode-notebook-cell:/d%3A/MUMOMA/TFM/COVID/COVID-Dynamics-Model-Comparison/analysis/Statistical-analysis.ipynb#ch0000003?line=6'>7</a>\u001b[0m \u001b[39m# path to read final data\u001b[39;00m\n\u001b[0;32m      <a href='vscode-notebook-cell:/d%3A/MUMOMA/TFM/COVID/COVID-Dynamics-Model-Comparison/analysis/Statistical-analysis.ipynb#ch0000003?line=7'>8</a>\u001b[0m path_to_read_final_data \u001b[39m=\u001b[39m base_dir \u001b[39m/\u001b[39m \u001b[39m'\u001b[39m\u001b[39mdata\u001b[39m\u001b[39m'\u001b[39m \u001b[39m/\u001b[39m \u001b[39m'\u001b[39m\u001b[39mfinal-data\u001b[39m\u001b[39m'\u001b[39m \u001b[39m/\u001b[39m file_name\n",
      "\u001b[1;31mNameError\u001b[0m: name 'Path' is not defined"
     ]
    }
   ],
   "source": [
    "# name of the file\n",
    "file_name = 'spanish-covid-19-data-renave-01Jun2022.csv'\n",
    "\n",
    "# data path\n",
    "base_dir = Path(os.getcwd()).parents[0]\n",
    "\n",
    "# path to read final data\n",
    "path_to_read_final_data = base_dir / 'data' / 'final-data' / file_name\t"
   ]
  },
  {
   "cell_type": "code",
   "execution_count": null,
   "metadata": {},
   "outputs": [
    {
     "data": {
      "text/html": [
       "<div>\n",
       "<style scoped>\n",
       "    .dataframe tbody tr th:only-of-type {\n",
       "        vertical-align: middle;\n",
       "    }\n",
       "\n",
       "    .dataframe tbody tr th {\n",
       "        vertical-align: top;\n",
       "    }\n",
       "\n",
       "    .dataframe thead th {\n",
       "        text-align: right;\n",
       "    }\n",
       "</style>\n",
       "<table border=\"1\" class=\"dataframe\">\n",
       "  <thead>\n",
       "    <tr style=\"text-align: right;\">\n",
       "      <th></th>\n",
       "      <th>Population</th>\n",
       "      <th>Infected</th>\n",
       "      <th>Deaths</th>\n",
       "      <th>Recovered</th>\n",
       "    </tr>\n",
       "    <tr>\n",
       "      <th>Date</th>\n",
       "      <th></th>\n",
       "      <th></th>\n",
       "      <th></th>\n",
       "      <th></th>\n",
       "    </tr>\n",
       "  </thead>\n",
       "  <tbody>\n",
       "    <tr>\n",
       "      <th>2020-01-07</th>\n",
       "      <td>46796540</td>\n",
       "      <td>0.0</td>\n",
       "      <td>0.0</td>\n",
       "      <td>0.0</td>\n",
       "    </tr>\n",
       "    <tr>\n",
       "      <th>2020-01-08</th>\n",
       "      <td>46796540</td>\n",
       "      <td>0.0</td>\n",
       "      <td>0.0</td>\n",
       "      <td>0.0</td>\n",
       "    </tr>\n",
       "    <tr>\n",
       "      <th>2020-01-09</th>\n",
       "      <td>46796540</td>\n",
       "      <td>0.0</td>\n",
       "      <td>0.0</td>\n",
       "      <td>0.0</td>\n",
       "    </tr>\n",
       "    <tr>\n",
       "      <th>2020-01-10</th>\n",
       "      <td>46796540</td>\n",
       "      <td>0.0</td>\n",
       "      <td>0.0</td>\n",
       "      <td>0.0</td>\n",
       "    </tr>\n",
       "    <tr>\n",
       "      <th>2020-01-11</th>\n",
       "      <td>46796540</td>\n",
       "      <td>0.0</td>\n",
       "      <td>0.0</td>\n",
       "      <td>0.0</td>\n",
       "    </tr>\n",
       "  </tbody>\n",
       "</table>\n",
       "</div>"
      ],
      "text/plain": [
       "            Population  Infected  Deaths  Recovered\n",
       "Date                                               \n",
       "2020-01-07    46796540       0.0     0.0        0.0\n",
       "2020-01-08    46796540       0.0     0.0        0.0\n",
       "2020-01-09    46796540       0.0     0.0        0.0\n",
       "2020-01-10    46796540       0.0     0.0        0.0\n",
       "2020-01-11    46796540       0.0     0.0        0.0"
      ]
     },
     "metadata": {},
     "output_type": "display_data"
    }
   ],
   "source": [
    "\n",
    "\n",
    "\n",
    "\n",
    "\n",
    "\n",
    "\n",
    "\n",
    "\n",
    "\n",
    "\n",
    "\n",
    "df = pd.read_csv(path_to_read_final_data, parse_dates=['Date'])\n",
    "df.set_index(['Date'], inplace=True)\n",
    "df.head()"
   ]
  }
 ],
 "metadata": {
  "interpreter": {
   "hash": "2f61769ec4a0af70eaab012abdcd8f5eb7772fe481a5d4537f6792b03d2c9d2a"
  },
  "kernelspec": {
   "display_name": "Python 3.7.13 ('venv3.7')",
   "language": "python",
   "name": "python3"
  },
  "language_info": {
   "codemirror_mode": {
    "name": "ipython",
    "version": 3
   },
   "file_extension": ".py",
   "mimetype": "text/x-python",
   "name": "python",
   "nbconvert_exporter": "python",
   "pygments_lexer": "ipython3",
   "version": "3.7.13"
  },
  "orig_nbformat": 4
 },
 "nbformat": 4,
 "nbformat_minor": 2
}
