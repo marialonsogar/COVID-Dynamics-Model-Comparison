{
 "cells": [
  {
   "cell_type": "markdown",
   "metadata": {},
   "source": [
    "# Data Retrieval\n"
   ]
  },
  {
   "cell_type": "markdown",
   "metadata": {},
   "source": [
    "## Setup\n"
   ]
  },
  {
   "cell_type": "code",
   "execution_count": 4,
   "metadata": {},
   "outputs": [],
   "source": [
    "# data handling\n",
    "import pandas as pd\n",
    "import numpy as np\n",
    "from datetime import date\n",
    "\n",
    "# path handling\n",
    "import os\n",
    "from pathlib import Path\n",
    "\n",
    "# visualization\n",
    "import plotly.graph_objects as go\n"
   ]
  },
  {
   "cell_type": "markdown",
   "metadata": {},
   "source": [
    "## Data\n"
   ]
  },
  {
   "cell_type": "code",
   "execution_count": 17,
   "metadata": {},
   "outputs": [],
   "source": [
    "# today's date\n",
    "today_date = date.today().strftime(\"%d%b%Y\")\n",
    "\n",
    "# name of the files\n",
    "file_name = f'spanish-covid-19-data-renave-{today_date}.csv'\n",
    "\n",
    "# data path\n",
    "base_dir = Path(os.getcwd()).parents[0]\n",
    "\n",
    "# path to save last raw data\n",
    "path_to_save_raw_data = base_dir / 'data' / 'raw-data' / file_name\t\n",
    "\n",
    "# path to save preprocessed data\n",
    "path_to_save_processed_data = base_dir / 'data' / 'processed-data' / file_name\t\n",
    "\n",
    "# path to save final data\n",
    "path_to_save_final_data = base_dir / 'data' / 'final-data' / file_name\t"
   ]
  },
  {
   "cell_type": "code",
   "execution_count": 18,
   "metadata": {},
   "outputs": [
    {
     "name": "stdout",
     "output_type": "stream",
     "text": [
      "Updated raw data saved in d:\\MUMOMA\\TFM\\COVID\\COVID-Dynamics-Model-Comparison\\data\\raw-data\\spanish-covid-19-data-renave-02Jul2022.csv\n"
     ]
    }
   ],
   "source": [
    "df = pd.read_csv('https://cnecovid.isciii.es/covid19/resources/casos_hosp_uci_def_sexo_edad_provres.csv', \n",
    "                parse_dates=['fecha'], encoding='latin-1', keep_default_na=False)\n",
    "\n",
    "# save raw data\n",
    "df.to_csv(path_to_save_raw_data, index=False)\n",
    "print(f'Updated raw data saved in {path_to_save_raw_data}')"
   ]
  },
  {
   "cell_type": "code",
   "execution_count": 23,
   "metadata": {},
   "outputs": [
    {
     "name": "stderr",
     "output_type": "stream",
     "text": [
      "C:\\Users\\maria\\AppData\\Roaming\\Python\\Python36\\site-packages\\pandas\\core\\indexing.py:670: SettingWithCopyWarning:\n",
      "\n",
      "\n",
      "A value is trying to be set on a copy of a slice from a DataFrame\n",
      "\n",
      "See the caveats in the documentation: https://pandas.pydata.org/pandas-docs/stable/user_guide/indexing.html#returning-a-view-versus-a-copy\n",
      "\n"
     ]
    },
    {
     "data": {
      "text/html": [
       "<div>\n",
       "<style scoped>\n",
       "    .dataframe tbody tr th:only-of-type {\n",
       "        vertical-align: middle;\n",
       "    }\n",
       "\n",
       "    .dataframe tbody tr th {\n",
       "        vertical-align: top;\n",
       "    }\n",
       "\n",
       "    .dataframe thead th {\n",
       "        text-align: right;\n",
       "    }\n",
       "</style>\n",
       "<table border=\"1\" class=\"dataframe\">\n",
       "  <thead>\n",
       "    <tr style=\"text-align: right;\">\n",
       "      <th></th>\n",
       "      <th>Population</th>\n",
       "      <th>Infected</th>\n",
       "      <th>Deaths</th>\n",
       "      <th>Recovered</th>\n",
       "    </tr>\n",
       "    <tr>\n",
       "      <th>Date</th>\n",
       "      <th></th>\n",
       "      <th></th>\n",
       "      <th></th>\n",
       "      <th></th>\n",
       "    </tr>\n",
       "  </thead>\n",
       "  <tbody>\n",
       "    <tr>\n",
       "      <th>2022-05-20</th>\n",
       "      <td>46796540</td>\n",
       "      <td>16002.0</td>\n",
       "      <td>66.0</td>\n",
       "      <td>15936.0</td>\n",
       "    </tr>\n",
       "    <tr>\n",
       "      <th>2022-05-21</th>\n",
       "      <td>46796540</td>\n",
       "      <td>15551.0</td>\n",
       "      <td>65.0</td>\n",
       "      <td>15486.0</td>\n",
       "    </tr>\n",
       "    <tr>\n",
       "      <th>2022-05-22</th>\n",
       "      <td>46796540</td>\n",
       "      <td>15096.0</td>\n",
       "      <td>64.0</td>\n",
       "      <td>15032.0</td>\n",
       "    </tr>\n",
       "    <tr>\n",
       "      <th>2022-05-23</th>\n",
       "      <td>46796540</td>\n",
       "      <td>14700.0</td>\n",
       "      <td>62.0</td>\n",
       "      <td>14638.0</td>\n",
       "    </tr>\n",
       "    <tr>\n",
       "      <th>2022-05-24</th>\n",
       "      <td>46796540</td>\n",
       "      <td>14270.0</td>\n",
       "      <td>61.0</td>\n",
       "      <td>14209.0</td>\n",
       "    </tr>\n",
       "  </tbody>\n",
       "</table>\n",
       "</div>"
      ],
      "text/plain": [
       "            Population  Infected  Deaths  Recovered\n",
       "Date                                               \n",
       "2022-05-20    46796540   16002.0    66.0    15936.0\n",
       "2022-05-21    46796540   15551.0    65.0    15486.0\n",
       "2022-05-22    46796540   15096.0    64.0    15032.0\n",
       "2022-05-23    46796540   14700.0    62.0    14638.0\n",
       "2022-05-24    46796540   14270.0    61.0    14209.0"
      ]
     },
     "execution_count": 23,
     "metadata": {},
     "output_type": "execute_result"
    }
   ],
   "source": [
    "# Data selection\n",
    "\n",
    "def preprocess_data(df, smooth=True):\n",
    "    df.drop(columns=['num_hosp', 'num_uci'], inplace=True)\n",
    "\n",
    "    df.rename(columns={'provincia_iso':'ISO3',\n",
    "            'fecha':'Date', \n",
    "            'num_casos':'Infected', \n",
    "            'num_def':'Deaths'}, inplace=True)\n",
    "    # group by date to delete province data\n",
    "    df = df.groupby(['Date']).sum()\n",
    "\n",
    "    # add population\n",
    "    df['Population'] = 46796540\n",
    "\n",
    "    # select data for SI (Susceptible, Infected)\n",
    "    df = df[['Population', 'Infected', 'Deaths']]\n",
    "\n",
    "    if smooth is True:\n",
    "        # smooth data\n",
    "        df['Infected'] = df['Infected'].rolling(7).mean().dropna().astype(int)\n",
    "        df['Deaths'] = df['Deaths'].rolling(7).mean().dropna().astype(int)\n",
    "\n",
    "    # add recovered\n",
    "    RECOVERY_PERIOD = 10\n",
    "    df['Recovered'] = 0\n",
    "    df['Recovered'].iloc[RECOVERY_PERIOD:] = df['Infected'].iloc[:-RECOVERY_PERIOD] - df['Deaths'].iloc[:-RECOVERY_PERIOD]\n",
    "\n",
    "    # ensure not nan values\n",
    "    df.dropna(inplace=True)\n",
    "\n",
    "    # select positive data\n",
    "    df = df[df.index > pd.to_datetime('2020-03-01')]\n",
    "\n",
    "    return df\n",
    "\n",
    "# preprocess\n",
    "df = preprocess_data(df)\n",
    "# save data\n",
    "df.to_csv(path_to_save_processed_data, index=True)\n",
    "\n",
    "# show data\n",
    "df.tail()"
   ]
  },
  {
   "cell_type": "code",
   "execution_count": 24,
   "metadata": {},
   "outputs": [
    {
     "data": {
      "text/plain": [
       "<matplotlib.axes._subplots.AxesSubplot at 0x270032fdcf8>"
      ]
     },
     "execution_count": 24,
     "metadata": {},
     "output_type": "execute_result"
    },
    {
     "data": {
      "image/png": "[encoded data removed]",
      "text/plain": [
       "<Figure size 432x288 with 1 Axes>"
      ]
     },
     "metadata": {
      "needs_background": "light"
     },
     "output_type": "display_data"
    }
   ],
   "source": [
    "df['Infected'].plot()"
   ]
  },
  {
   "cell_type": "code",
   "execution_count": 10,
   "metadata": {},
   "outputs": [
    {
     "data": {
      "text/plain": [
       "<matplotlib.axes._subplots.AxesSubplot at 0x27002cb6c18>"
      ]
     },
     "execution_count": 10,
     "metadata": {},
     "output_type": "execute_result"
    },
    {
     "data": {
      "image/png": "[encoded data removed]",
      "text/plain": [
       "<Figure size 432x288 with 1 Axes>"
      ]
     },
     "metadata": {
      "needs_background": "light"
     },
     "output_type": "display_data"
    }
   ],
   "source": [
    "df.iloc[:, 1:].plot()"
   ]
  },
  {
   "cell_type": "code",
   "execution_count": 11,
   "metadata": {},
   "outputs": [
    {
     "name": "stdout",
     "output_type": "stream",
     "text": [
      "Updated final processed data saved in d:\\MUMOMA\\TFM\\COVID\\COVID-Dynamics-Model-Comparison\\data\\final-data\\spanish-covid-19-data-renave-02Jul2022.csv\n"
     ]
    }
   ],
   "source": [
    "# save data\n",
    "df.to_csv(path_to_save_final_data)\n",
    "print(f'Updated final processed data saved in {path_to_save_final_data}')"
   ]
  }
 ],
 "metadata": {
  "interpreter": {
   "hash": "cd095f0f91d01085d678fb34bf9a87067cbac4abdc685d67e399324fb74a0ace"
  },
  "kernelspec": {
   "display_name": "Python 3.6.0 64-bit",
   "language": "python",
   "name": "python3"
  },
  "language_info": {
   "codemirror_mode": {
    "name": "ipython",
    "version": 3
   },
   "file_extension": ".py",
   "mimetype": "text/x-python",
   "name": "python",
   "nbconvert_exporter": "python",
   "pygments_lexer": "ipython3",
   "version": "3.6.2"
  },
  "orig_nbformat": 4
 },
 "nbformat": 4,
 "nbformat_minor": 2
}
