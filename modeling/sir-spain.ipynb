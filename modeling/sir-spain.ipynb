{
 "cells": [
  {
   "cell_type": "markdown",
   "metadata": {},
   "source": [
    "# SIR"
   ]
  },
  {
   "cell_type": "markdown",
   "metadata": {},
   "source": [
    "## Setup"
   ]
  },
  {
   "cell_type": "code",
   "execution_count": 54,
   "metadata": {},
   "outputs": [],
   "source": [
    "# data handling\n",
    "import pandas as pd\n",
    "import numpy as np\n",
    "\n",
    "# visualizations\n",
    "%matplotlib inline\n",
    "import matplotlib.pyplot as plt\n",
    "import seaborn as sns\n",
    "import plotly.io as pio\n",
    "pio.templates.default = \"plotly_white\"\n",
    "\n",
    "# for compartmental models\n",
    "import comod\n",
    "from comod.models import sir  # Standard SIR model\n",
    "from numpy.lib.stride_tricks import sliding_window_view\n",
    "\n",
    "# model performance analysis\n",
    "from utils import metrics, plot_acf_pacf\n",
    "from sklearn.metrics import mean_absolute_error, mean_squared_error, mean_absolute_percentage_error, mean_squared_log_error\n",
    "from sktime.performance_metrics.forecasting import geometric_mean_relative_absolute_error\n",
    "import scipy.stats as st\n",
    "\n",
    "# path handling\n",
    "from pathlib import Path\n",
    "\n",
    "# filter warnings\n",
    "import warnings\n",
    "warnings.filterwarnings(\"ignore\")"
   ]
  },
  {
   "cell_type": "markdown",
   "metadata": {},
   "source": [
    "# Data"
   ]
  },
  {
   "cell_type": "markdown",
   "metadata": {},
   "source": [
    "Read saved static data (csv file) of COVID-19 cases in Spain. More info in https://cnecovid.isciii.es/covid19/#documentaci%C3%B3n-y-datos. "
   ]
  },
  {
   "cell_type": "code",
   "execution_count": 3,
   "metadata": {},
   "outputs": [],
   "source": [
    "# name of the file\n",
    "file_name = 'spanish-covid-19-data-renave-21Jun2022.csv'\n",
    "\n",
    "# data path\n",
    "base_dir = Path(os.getcwd()).parents[0]\n",
    "\n",
    "# path to read final data\n",
    "path_to_read_final_data = base_dir / 'data' / 'final-data' / file_name\t"
   ]
  },
  {
   "cell_type": "code",
   "execution_count": 4,
   "metadata": {},
   "outputs": [
    {
     "data": {
      "text/html": [
       "<div>\n",
       "<style scoped>\n",
       "    .dataframe tbody tr th:only-of-type {\n",
       "        vertical-align: middle;\n",
       "    }\n",
       "\n",
       "    .dataframe tbody tr th {\n",
       "        vertical-align: top;\n",
       "    }\n",
       "\n",
       "    .dataframe thead th {\n",
       "        text-align: right;\n",
       "    }\n",
       "</style>\n",
       "<table border=\"1\" class=\"dataframe\">\n",
       "  <thead>\n",
       "    <tr style=\"text-align: right;\">\n",
       "      <th></th>\n",
       "      <th>Population</th>\n",
       "      <th>Infected</th>\n",
       "      <th>Deaths</th>\n",
       "      <th>Recovered</th>\n",
       "    </tr>\n",
       "    <tr>\n",
       "      <th>Date</th>\n",
       "      <th></th>\n",
       "      <th></th>\n",
       "      <th></th>\n",
       "      <th></th>\n",
       "    </tr>\n",
       "  </thead>\n",
       "  <tbody>\n",
       "    <tr>\n",
       "      <th>2020-01-07</th>\n",
       "      <td>46796540</td>\n",
       "      <td>0.0</td>\n",
       "      <td>0.0</td>\n",
       "      <td>0.0</td>\n",
       "    </tr>\n",
       "    <tr>\n",
       "      <th>2020-01-08</th>\n",
       "      <td>46796540</td>\n",
       "      <td>0.0</td>\n",
       "      <td>0.0</td>\n",
       "      <td>0.0</td>\n",
       "    </tr>\n",
       "    <tr>\n",
       "      <th>2020-01-09</th>\n",
       "      <td>46796540</td>\n",
       "      <td>0.0</td>\n",
       "      <td>0.0</td>\n",
       "      <td>0.0</td>\n",
       "    </tr>\n",
       "    <tr>\n",
       "      <th>2020-01-10</th>\n",
       "      <td>46796540</td>\n",
       "      <td>0.0</td>\n",
       "      <td>0.0</td>\n",
       "      <td>0.0</td>\n",
       "    </tr>\n",
       "    <tr>\n",
       "      <th>2020-01-11</th>\n",
       "      <td>46796540</td>\n",
       "      <td>0.0</td>\n",
       "      <td>0.0</td>\n",
       "      <td>0.0</td>\n",
       "    </tr>\n",
       "  </tbody>\n",
       "</table>\n",
       "</div>"
      ],
      "text/plain": [
       "            Population  Infected  Deaths  Recovered\n",
       "Date                                               \n",
       "2020-01-07    46796540       0.0     0.0        0.0\n",
       "2020-01-08    46796540       0.0     0.0        0.0\n",
       "2020-01-09    46796540       0.0     0.0        0.0\n",
       "2020-01-10    46796540       0.0     0.0        0.0\n",
       "2020-01-11    46796540       0.0     0.0        0.0"
      ]
     },
     "execution_count": 4,
     "metadata": {},
     "output_type": "execute_result"
    }
   ],
   "source": [
    "# read data and show the first samples\n",
    "df = pd.read_csv(path_to_read_final_data, parse_dates=['Date'])\n",
    "df.set_index(['Date'], inplace=True)\n",
    "df.head()"
   ]
  },
  {
   "cell_type": "code",
   "execution_count": 5,
   "metadata": {},
   "outputs": [],
   "source": [
    "df = df[df.index > pd.to_datetime('2020-02-20')]"
   ]
  },
  {
   "cell_type": "markdown",
   "metadata": {},
   "source": [
    "## Prepare data "
   ]
  },
  {
   "cell_type": "markdown",
   "metadata": {},
   "source": [
    "Before further analysis, data must be prepared to fit the model implementation:\n",
    "- Population is saved as constant in POPULATION variable. \n",
    "- Only variables needed for the analysis are kept: susceptible, infected and recovered cases. \n",
    "- Transform dates to integer timesteps to prevent unexpected errors when handling datetime types. \n",
    "- Transform data from DataFrame to arrays S, I, R to speed up computations. "
   ]
  },
  {
   "cell_type": "code",
   "execution_count": 6,
   "metadata": {},
   "outputs": [],
   "source": [
    "# constant population\n",
    "POPULATION = df['Population'].mean()\n",
    "\n",
    "df2 = df[['Infected', 'Deaths', 'Recovered']]"
   ]
  },
  {
   "cell_type": "code",
   "execution_count": 7,
   "metadata": {},
   "outputs": [],
   "source": [
    "# Confirmed, Deaths, Recovered and Active cases to SIR form\n",
    "def CDRA_to_SIR(df, population):\n",
    "    df2 = df[[]].copy()\n",
    "    df2[\"S\"] = 0  # Just to produce the desired order\n",
    "    df2[\"I\"] = df[[\"Infected\"]]\n",
    "    df2[\"R\"] = df[\"Deaths\"] + df[\"Recovered\"]\n",
    "    df2[\"S\"] = population - df2[\"I\"] - df2[\"R\"]\n",
    "    return df2"
   ]
  },
  {
   "cell_type": "code",
   "execution_count": 8,
   "metadata": {},
   "outputs": [
    {
     "data": {
      "image/png": "[encoded data removed]",
      "text/plain": [
       "<Figure size 432x288 with 1 Axes>"
      ]
     },
     "metadata": {
      "needs_background": "light"
     },
     "output_type": "display_data"
    }
   ],
   "source": [
    "df3 = CDRA_to_SIR(df2, POPULATION)\n",
    "\n",
    "# plot all avaible data of infected cases\n",
    "sns.scatterplot(df3.index, df3['I'])\n",
    "plt.show()\n",
    "\n",
    "# # or plot a subset \n",
    "# sns.scatterplot(df3.index[50:200], df3['I'][50:200])\n",
    "# plt.show()"
   ]
  },
  {
   "cell_type": "code",
   "execution_count": 9,
   "metadata": {},
   "outputs": [],
   "source": [
    "# use day count instead of datetime\n",
    "t = np.linspace(0, len(df3)-1, len(df3))\n",
    "\n",
    "# S, I, R to array\n",
    "S = df3['S'].values\n",
    "I = df3['I'].values\n",
    "R = df3['R'].values"
   ]
  },
  {
   "cell_type": "markdown",
   "metadata": {},
   "source": [
    "# SIR modeling"
   ]
  },
  {
   "cell_type": "markdown",
   "metadata": {},
   "source": [
    "To fit the SIR model, the package comod is used (doc: https://comod.readthedocs.io/en/latest/). \n",
    "\n",
    "It is not adequate to fit a single SIR model to all available data: SIR model is deterministic, so given an initial state, the solution is uniquely determined by it. Therefore, small time windows need to be considered to fit a SIR model on each: the initial values of S, I, R in each window will determine the predictions.\n",
    "\n",
    "For easy of analysis, the class WindowFit is defined. Given all data, the class generates the necessary windows, plots and evaluates the predictions. Two forms of evaluations are allowed: multiple train-test splits and walk-forward validation (recomended). This should be specified by the eval_mode parameter, which is 'WF' by default. The metrics considered to evaluate performance are defined in the variable metrics. \n",
    "\n",
    "For sake of comparison, a baseline or benchmark to beat has been defined. The baseline is taken by predicting for time t+1 the value of t, i.e., repeating the last value."
   ]
  },
  {
   "cell_type": "markdown",
   "metadata": {},
   "source": [
    "## Metrics"
   ]
  },
  {
   "cell_type": "code",
   "execution_count": 11,
   "metadata": {},
   "outputs": [],
   "source": [
    "class WindowFit:\n",
    "    \n",
    "    def __init__(self, window_size, steps_ahead, data, metrics=metrics, eval_mode='WF'):\n",
    "        # parameters\n",
    "        self.window_size = window_size\n",
    "        self.steps_ahead = steps_ahead\n",
    "\n",
    "        # store raw data\n",
    "        self.data = np.array(data)\n",
    "        self.train, self.test = self.train_test_split(self.data, eval_mode)\n",
    "        self.baseline = self.get_baseline(self.train)\n",
    "\n",
    "        # metrics to evaluate\n",
    "        self.metrics = metrics\n",
    "\n",
    "\n",
    "    def train_test_split(self, data, eval_mode):\n",
    "        \"\"\"\n",
    "        Split data into train and test subsets\n",
    "        Args:\n",
    "            data (pd.DataFrame or np.array): Data to be split\n",
    "            eval_mode (str): Mode of evaluation, 'WF' for Walk Forward evaluation, 'MTTS' for Multiple Train Test Splits \n",
    "        Returns:\n",
    "            train (numpy.ndarray): Train data\n",
    "            test (numpy.ndarray): Test data\n",
    "        \"\"\"\n",
    "        train, test = [], []\n",
    "\n",
    "        if eval_mode == 'WF':\n",
    "            # walk forward evaluation\n",
    "            for compartiment in data:\n",
    "                train.append(sliding_window_view(compartiment[:-(self.steps_ahead)], window_shape=self.window_size))\n",
    "                test.append(np.array([np.array(compartiment[i:i+self.steps_ahead]) for i in range(self.window_size, len(compartiment)) if len(np.array(compartiment[i:i+self.steps_ahead]))==self.steps_ahead]))\n",
    "\n",
    "        elif eval_mode == 'MTTS':\n",
    "            n_windows = data.shape[1]//(self.window_size+self.steps_ahead) # perfect windows \n",
    "            data_start_point = data.shape[1]%(self.window_size+self.steps_ahead) # data start to generate perfect windows sizes\n",
    "            \n",
    "            for compartiment in data:\n",
    "                window = np.array(np.split(compartiment[data_start_point:], n_windows))\n",
    "                train.append(window[:, :-self.steps_ahead])\n",
    "                test.append(window[:, -self.steps_ahead:])\n",
    "        else:\n",
    "            raise ValueError('Evaluation mode not recognized')\n",
    "\n",
    "        return np.array(train), np.array(test)\n",
    "\n",
    "    def get_baseline(self, train):\n",
    "        baselines = []\n",
    "        for compartiment in train:\n",
    "            baseline = []\n",
    "            for window in compartiment:\n",
    "                baseline.append(np.repeat(window[-1], self.steps_ahead))           \n",
    "            baselines.append(np.array(baseline))\n",
    "        return np.array(baselines)\n",
    "\n",
    "    def fit_predict(self, window, return_only_predictions=False):\n",
    "        \"\"\"\n",
    "        Fit the model to a window and predict the future\n",
    "\n",
    "        Args:\n",
    "            window (numpy.ndarray): a window with [S, I, R] data to fit SIR model and predict future\n",
    "\n",
    "        Returns:\n",
    "            predictions (numpy.ndarray): a window with [S, I, R] data predicted from the fitted SIR model\n",
    "\n",
    "        \"\"\"\n",
    "        # define a SIR model\n",
    "        model = comod.Model(\n",
    "            [\"S\", \"I\", \"R\"],  # States\n",
    "            [\"beta\", \"gamma\"],  # Coefficients\n",
    "            [  # Rules in the form (origin, destination, coefficient)\n",
    "                (\"S\", \"I\", \"beta I / N\"),  # N is a special state with the total population\n",
    "                (\"I\", \"R\", \"gamma\"),\n",
    "            ],\n",
    "            # Special state names can be set with the following options:\n",
    "            # Total population. Can be used in the coefficients, but not as origin/destination.\n",
    "            sum_state=\"N\", \n",
    "            # The nothingness (?) from which one is born and to which one dies.\n",
    "            nihil_state=\"!\",  # Can be used as origin/destination, but not in the cofficients.\n",
    "        )\n",
    "        \n",
    "        # define time mesh\n",
    "        t_window = np.arange(self.window_size) # time mesh for the window with step_size>window_size\n",
    "        \n",
    "        # best-fit model\n",
    "        fit_pars = model.best_fit(\n",
    "            np.asarray(window), t_window, [0.2, 0.2]  # Existing data  # Time mesh  # Initial guess\n",
    "        ).x\n",
    "\n",
    "        # get fitted parameters\n",
    "        fit_beta, fit_gamma = fit_pars\n",
    "\n",
    "        # initial states:\n",
    "        S0, I0, R0 = window[0][0], window[1][0], window[2][0]\n",
    "\n",
    "        # solve the model numerically\n",
    "        S_simulated, I_simulated, R_simulated = model.solve(\n",
    "            (S0, I0, R0),  # Initial state\n",
    "            [fit_beta, fit_gamma],  # Coefficient values\n",
    "            t=np.arange(self.window_size+self.steps_ahead),  # Time mesh\n",
    "            method=\"RK45\",  # see scipy.integrate.solve_ivp\n",
    "        )\n",
    "\n",
    "        if return_only_predictions is True:\n",
    "            return S_simulated[-self.steps_ahead:], I_simulated[-self.steps_ahead:], R_simulated[-self.steps_ahead:]\n",
    "        else:\n",
    "            return S_simulated, I_simulated, R_simulated\n",
    "        \n",
    "    def random_windows(self, return_baseline=False):\n",
    "        \"\"\"\n",
    "        Generate random windows\n",
    "        \"\"\"\n",
    "        random_index = np.random.randint(0, self.train.shape[1])\n",
    "        random_window_train, random_window_test = self.train[:, random_index], self.test[:, random_index]\n",
    "        if return_baseline is True:\n",
    "            random_window_baseline = self.baseline[:, random_index]\n",
    "            return random_window_train, random_window_test, random_window_baseline[1]\n",
    "        else:\n",
    "            return random_window_train, random_window_test\n",
    "\n",
    "    def plot_windows(self, max_subplots=3):\n",
    "        \"\"\"\n",
    "        Plot real infected data, the predictions and the baseline to compare\n",
    "        Args:\n",
    "            max_subplots (int): maximum number of subplots to plot\n",
    "        \"\"\"\n",
    "        example_windows = [self.random_windows(return_baseline=True) for _ in range(max_subplots)]\n",
    "\n",
    "        for train_window, test_window, baseline_window in example_windows:\n",
    "            t_window = np.arange(self.window_size+self.steps_ahead)\n",
    "\n",
    "            _, I_simulated, _ = self.fit_predict(train_window, return_only_predictions=False)\n",
    "\n",
    "            plt.figure(figsize=(8, 5))\n",
    "            plt.scatter(t_window[:self.window_size], train_window[1], color='dodgerblue', label='I real')\n",
    "            plt.plot(t_window, I_simulated, color='orange', label='I simulated')\n",
    "            plt.scatter(t_window[-self.steps_ahead:], I_simulated[-self.steps_ahead:], color='darkorange', label='I predicted')\n",
    "            plt.scatter(t_window[-self.steps_ahead:], test_window[1], color='blue', label='I test')\n",
    "            plt.plot(t_window[-self.steps_ahead:], baseline_window,  marker='o', color='silver', label='I baseline')\n",
    "\n",
    "            plt.ylabel('Infected')\n",
    "            plt.xlabel('Time steps')\n",
    "            plt.legend()\n",
    "            plt.show()\n",
    "\n",
    "    def get_all_predictions(self, horizon):\n",
    "        \"\"\"\n",
    "        Get all predictions in a single array for a time horizon of 'horizon'\n",
    "\n",
    "        Args:\n",
    "            horizon (int): time horizon to predict\n",
    "        \"\"\"\n",
    "        predictions = []\n",
    "        for i in range(self.train.shape[1]):\n",
    "            window = self.train[:, i]\n",
    "            _, I_pred, _ = self.fit_predict(window, return_only_predictions=True)\n",
    "            predictions.append(I_pred[(horizon-1)])\n",
    "        return np.array(predictions)\n",
    "\n",
    "    def get_residuals(self, horizon):\n",
    "        \"\"\"\n",
    "        Get the residuals (residuals = expected_value-forecast_value) for a time horizon of 'horizon'\n",
    "        \"\"\"\n",
    "        I_pred_total = self.get_all_predictions(horizon)\n",
    "        I_true = self.test[1][:, horizon-1]\n",
    "        return I_true - I_pred_total # forecast errors\n",
    "\n",
    "    def evaluate(self):\n",
    "        \"\"\"\n",
    "        Evaluate the performance of the model\n",
    "        \"\"\"\n",
    "        evaluation = {}\n",
    "\n",
    "        # evaluate per timesteps\n",
    "        for i in range(self.steps_ahead):\n",
    "            sir_step_evaluation, baseline_step_evaluation = {}, {}\n",
    "\n",
    "            test_step = self.test[1][:, i]\n",
    "            predicted_step = self.get_all_predictions(horizon=i+1)\n",
    "            baseline_step = self.baseline[1][:, i]\n",
    "\n",
    "            # evaluate\n",
    "            for metric_name, metric in self.metrics.items():\n",
    "                try:\n",
    "                    sir_step_evaluation[metric_name] = metric(test_step, predicted_step)\n",
    "                    baseline_step_evaluation[metric_name] = metric(test_step, baseline_step)\n",
    "                except:\n",
    "                    sir_step_evaluation[metric_name] = np.nan\n",
    "                    baseline_step_evaluation[metric_name] = np.nan\n",
    "\n",
    "                sir_step_evaluation['GMRAE'] = geometric_mean_relative_absolute_error(test_step, predicted_step, y_pred_benchmark=baseline_step)\n",
    "                evaluation[f'step_{i+1}'] = sir_step_evaluation\n",
    "                evaluation[f'baseline_step_{i+1}'] = baseline_step_evaluation\n",
    "\n",
    "        return evaluation\n",
    "        \n",
    "        "
   ]
  },
  {
   "cell_type": "markdown",
   "metadata": {},
   "source": [
    "## Fit\n",
    "\n",
    "An example of how to use the previous class to adjust a model to successive windows of size window_size=7 (7 time steps) to predict the next steps_ahead=3 (3 time steps) is shown below. That is, predict the infected cases for the next 3 days knowing the infected cases values of the previous 7 days. "
   ]
  },
  {
   "cell_type": "code",
   "execution_count": 12,
   "metadata": {},
   "outputs": [],
   "source": [
    "# create an object of the class\n",
    "w = WindowFit(window_size=7, steps_ahead=3, data=[S, I, R], eval_mode='WF')\n",
    "# get a random train and test window\n",
    "window_train, window_test = w.random_windows()\n",
    "# fit the model and get the predictions\n",
    "S_simulated, I_simulated, R_simulated = w.fit_predict(window_train, return_only_predictions=True)\n"
   ]
  },
  {
   "cell_type": "code",
   "execution_count": 13,
   "metadata": {},
   "outputs": [
    {
     "data": {
      "image/png": "[encoded data removed]",
      "text/plain": [
       "<Figure size 576x360 with 1 Axes>"
      ]
     },
     "metadata": {
      "needs_background": "light"
     },
     "output_type": "display_data"
    },
    {
     "data": {
      "image/png": "[encoded data removed]",
      "text/plain": [
       "<Figure size 576x360 with 1 Axes>"
      ]
     },
     "metadata": {
      "needs_background": "light"
     },
     "output_type": "display_data"
    },
    {
     "data": {
      "image/png": "[encoded data removed]",
      "text/plain": [
       "<Figure size 576x360 with 1 Axes>"
      ]
     },
     "metadata": {
      "needs_background": "light"
     },
     "output_type": "display_data"
    }
   ],
   "source": [
    "# fit model and plot the results for 3 random windows\n",
    "w.plot_windows(max_subplots=3)"
   ]
  },
  {
   "cell_type": "markdown",
   "metadata": {},
   "source": [
    "# Evaluation\n",
    "\n",
    "To evaluate the performance of the model (and to compare it later with other types of models), data is divided into train and test sets. "
   ]
  },
  {
   "cell_type": "code",
   "execution_count": 29,
   "metadata": {},
   "outputs": [],
   "source": [
    "test_size = int(0.3*len(df))\n",
    "train_data = [S[:test_size], I[:test_size], R[:test_size]]\n",
    "test_data = [S[-test_size:], I[-test_size:], R[-test_size:]]"
   ]
  },
  {
   "cell_type": "code",
   "execution_count": 28,
   "metadata": {},
   "outputs": [
    {
     "data": {
      "text/html": [
       "<style type=\"text/css\">\n",
       "#T_42162_row0_col1, #T_42162_row1_col12, #T_42162_row2_col1, #T_42162_row3_col1, #T_42162_row4_col1 {\n",
       "  background-color: yellow;\n",
       "}\n",
       "</style>\n",
       "<table id=\"T_42162\">\n",
       "  <thead>\n",
       "    <tr>\n",
       "      <th class=\"blank level0\" >&nbsp;</th>\n",
       "      <th id=\"T_42162_level0_col0\" class=\"col_heading level0 col0\" >step_1</th>\n",
       "      <th id=\"T_42162_level0_col1\" class=\"col_heading level0 col1\" >baseline_step_1</th>\n",
       "      <th id=\"T_42162_level0_col2\" class=\"col_heading level0 col2\" >step_2</th>\n",
       "      <th id=\"T_42162_level0_col3\" class=\"col_heading level0 col3\" >baseline_step_2</th>\n",
       "      <th id=\"T_42162_level0_col4\" class=\"col_heading level0 col4\" >step_3</th>\n",
       "      <th id=\"T_42162_level0_col5\" class=\"col_heading level0 col5\" >baseline_step_3</th>\n",
       "      <th id=\"T_42162_level0_col6\" class=\"col_heading level0 col6\" >step_4</th>\n",
       "      <th id=\"T_42162_level0_col7\" class=\"col_heading level0 col7\" >baseline_step_4</th>\n",
       "      <th id=\"T_42162_level0_col8\" class=\"col_heading level0 col8\" >step_5</th>\n",
       "      <th id=\"T_42162_level0_col9\" class=\"col_heading level0 col9\" >baseline_step_5</th>\n",
       "      <th id=\"T_42162_level0_col10\" class=\"col_heading level0 col10\" >step_6</th>\n",
       "      <th id=\"T_42162_level0_col11\" class=\"col_heading level0 col11\" >baseline_step_6</th>\n",
       "      <th id=\"T_42162_level0_col12\" class=\"col_heading level0 col12\" >step_7</th>\n",
       "      <th id=\"T_42162_level0_col13\" class=\"col_heading level0 col13\" >baseline_step_7</th>\n",
       "      <th id=\"T_42162_level0_col14\" class=\"col_heading level0 col14\" >step_8</th>\n",
       "      <th id=\"T_42162_level0_col15\" class=\"col_heading level0 col15\" >baseline_step_8</th>\n",
       "      <th id=\"T_42162_level0_col16\" class=\"col_heading level0 col16\" >step_9</th>\n",
       "      <th id=\"T_42162_level0_col17\" class=\"col_heading level0 col17\" >baseline_step_9</th>\n",
       "      <th id=\"T_42162_level0_col18\" class=\"col_heading level0 col18\" >step_10</th>\n",
       "      <th id=\"T_42162_level0_col19\" class=\"col_heading level0 col19\" >baseline_step_10</th>\n",
       "      <th id=\"T_42162_level0_col20\" class=\"col_heading level0 col20\" >step_11</th>\n",
       "      <th id=\"T_42162_level0_col21\" class=\"col_heading level0 col21\" >baseline_step_11</th>\n",
       "      <th id=\"T_42162_level0_col22\" class=\"col_heading level0 col22\" >step_12</th>\n",
       "      <th id=\"T_42162_level0_col23\" class=\"col_heading level0 col23\" >baseline_step_12</th>\n",
       "      <th id=\"T_42162_level0_col24\" class=\"col_heading level0 col24\" >step_13</th>\n",
       "      <th id=\"T_42162_level0_col25\" class=\"col_heading level0 col25\" >baseline_step_13</th>\n",
       "      <th id=\"T_42162_level0_col26\" class=\"col_heading level0 col26\" >step_14</th>\n",
       "      <th id=\"T_42162_level0_col27\" class=\"col_heading level0 col27\" >baseline_step_14</th>\n",
       "    </tr>\n",
       "  </thead>\n",
       "  <tbody>\n",
       "    <tr>\n",
       "      <th id=\"T_42162_level0_row0\" class=\"row_heading level0 row0\" >RMSLE</th>\n",
       "      <td id=\"T_42162_row0_col0\" class=\"data row0 col0\" >0.164544</td>\n",
       "      <td id=\"T_42162_row0_col1\" class=\"data row0 col1\" >0.056256</td>\n",
       "      <td id=\"T_42162_row0_col2\" class=\"data row0 col2\" >0.179081</td>\n",
       "      <td id=\"T_42162_row0_col3\" class=\"data row0 col3\" >0.106092</td>\n",
       "      <td id=\"T_42162_row0_col4\" class=\"data row0 col4\" >0.198966</td>\n",
       "      <td id=\"T_42162_row0_col5\" class=\"data row0 col5\" >0.154140</td>\n",
       "      <td id=\"T_42162_row0_col6\" class=\"data row0 col6\" >0.221847</td>\n",
       "      <td id=\"T_42162_row0_col7\" class=\"data row0 col7\" >0.200838</td>\n",
       "      <td id=\"T_42162_row0_col8\" class=\"data row0 col8\" >0.247479</td>\n",
       "      <td id=\"T_42162_row0_col9\" class=\"data row0 col9\" >0.246602</td>\n",
       "      <td id=\"T_42162_row0_col10\" class=\"data row0 col10\" >0.276569</td>\n",
       "      <td id=\"T_42162_row0_col11\" class=\"data row0 col11\" >0.291887</td>\n",
       "      <td id=\"T_42162_row0_col12\" class=\"data row0 col12\" >0.309930</td>\n",
       "      <td id=\"T_42162_row0_col13\" class=\"data row0 col13\" >0.336961</td>\n",
       "      <td id=\"T_42162_row0_col14\" class=\"data row0 col14\" >0.345353</td>\n",
       "      <td id=\"T_42162_row0_col15\" class=\"data row0 col15\" >0.381071</td>\n",
       "      <td id=\"T_42162_row0_col16\" class=\"data row0 col16\" >0.383111</td>\n",
       "      <td id=\"T_42162_row0_col17\" class=\"data row0 col17\" >0.424703</td>\n",
       "      <td id=\"T_42162_row0_col18\" class=\"data row0 col18\" >0.421611</td>\n",
       "      <td id=\"T_42162_row0_col19\" class=\"data row0 col19\" >0.467716</td>\n",
       "      <td id=\"T_42162_row0_col20\" class=\"data row0 col20\" >0.460845</td>\n",
       "      <td id=\"T_42162_row0_col21\" class=\"data row0 col21\" >0.510136</td>\n",
       "      <td id=\"T_42162_row0_col22\" class=\"data row0 col22\" >0.500912</td>\n",
       "      <td id=\"T_42162_row0_col23\" class=\"data row0 col23\" >0.551999</td>\n",
       "      <td id=\"T_42162_row0_col24\" class=\"data row0 col24\" >0.542099</td>\n",
       "      <td id=\"T_42162_row0_col25\" class=\"data row0 col25\" >0.593348</td>\n",
       "      <td id=\"T_42162_row0_col26\" class=\"data row0 col26\" >0.584256</td>\n",
       "      <td id=\"T_42162_row0_col27\" class=\"data row0 col27\" >0.634216</td>\n",
       "    </tr>\n",
       "    <tr>\n",
       "      <th id=\"T_42162_level0_row1\" class=\"row_heading level0 row1\" >GMRAE</th>\n",
       "      <td id=\"T_42162_row1_col0\" class=\"data row1 col0\" >2.259333</td>\n",
       "      <td id=\"T_42162_row1_col1\" class=\"data row1 col1\" >nan</td>\n",
       "      <td id=\"T_42162_row1_col2\" class=\"data row1 col2\" >1.444699</td>\n",
       "      <td id=\"T_42162_row1_col3\" class=\"data row1 col3\" >nan</td>\n",
       "      <td id=\"T_42162_row1_col4\" class=\"data row1 col4\" >1.147061</td>\n",
       "      <td id=\"T_42162_row1_col5\" class=\"data row1 col5\" >nan</td>\n",
       "      <td id=\"T_42162_row1_col6\" class=\"data row1 col6\" >1.167162</td>\n",
       "      <td id=\"T_42162_row1_col7\" class=\"data row1 col7\" >nan</td>\n",
       "      <td id=\"T_42162_row1_col8\" class=\"data row1 col8\" >1.065833</td>\n",
       "      <td id=\"T_42162_row1_col9\" class=\"data row1 col9\" >nan</td>\n",
       "      <td id=\"T_42162_row1_col10\" class=\"data row1 col10\" >1.066607</td>\n",
       "      <td id=\"T_42162_row1_col11\" class=\"data row1 col11\" >nan</td>\n",
       "      <td id=\"T_42162_row1_col12\" class=\"data row1 col12\" >0.958649</td>\n",
       "      <td id=\"T_42162_row1_col13\" class=\"data row1 col13\" >nan</td>\n",
       "      <td id=\"T_42162_row1_col14\" class=\"data row1 col14\" >1.045503</td>\n",
       "      <td id=\"T_42162_row1_col15\" class=\"data row1 col15\" >nan</td>\n",
       "      <td id=\"T_42162_row1_col16\" class=\"data row1 col16\" >1.053026</td>\n",
       "      <td id=\"T_42162_row1_col17\" class=\"data row1 col17\" >nan</td>\n",
       "      <td id=\"T_42162_row1_col18\" class=\"data row1 col18\" >1.106561</td>\n",
       "      <td id=\"T_42162_row1_col19\" class=\"data row1 col19\" >nan</td>\n",
       "      <td id=\"T_42162_row1_col20\" class=\"data row1 col20\" >1.101618</td>\n",
       "      <td id=\"T_42162_row1_col21\" class=\"data row1 col21\" >nan</td>\n",
       "      <td id=\"T_42162_row1_col22\" class=\"data row1 col22\" >1.127562</td>\n",
       "      <td id=\"T_42162_row1_col23\" class=\"data row1 col23\" >nan</td>\n",
       "      <td id=\"T_42162_row1_col24\" class=\"data row1 col24\" >1.167865</td>\n",
       "      <td id=\"T_42162_row1_col25\" class=\"data row1 col25\" >nan</td>\n",
       "      <td id=\"T_42162_row1_col26\" class=\"data row1 col26\" >1.145429</td>\n",
       "      <td id=\"T_42162_row1_col27\" class=\"data row1 col27\" >nan</td>\n",
       "    </tr>\n",
       "    <tr>\n",
       "      <th id=\"T_42162_level0_row2\" class=\"row_heading level0 row2\" >MAE</th>\n",
       "      <td id=\"T_42162_row2_col0\" class=\"data row2 col0\" >5214.531570</td>\n",
       "      <td id=\"T_42162_row2_col1\" class=\"data row2 col1\" >1480.142857</td>\n",
       "      <td id=\"T_42162_row2_col2\" class=\"data row2 col2\" >5626.633279</td>\n",
       "      <td id=\"T_42162_row2_col3\" class=\"data row2 col3\" >2828.165899</td>\n",
       "      <td id=\"T_42162_row2_col4\" class=\"data row2 col4\" >6248.330435</td>\n",
       "      <td id=\"T_42162_row2_col5\" class=\"data row2 col5\" >4094.027650</td>\n",
       "      <td id=\"T_42162_row2_col6\" class=\"data row2 col6\" >7086.482427</td>\n",
       "      <td id=\"T_42162_row2_col7\" class=\"data row2 col7\" >5313.866359</td>\n",
       "      <td id=\"T_42162_row2_col8\" class=\"data row2 col8\" >8086.395097</td>\n",
       "      <td id=\"T_42162_row2_col9\" class=\"data row2 col9\" >6561.857143</td>\n",
       "      <td id=\"T_42162_row2_col10\" class=\"data row2 col10\" >9184.736179</td>\n",
       "      <td id=\"T_42162_row2_col11\" class=\"data row2 col11\" >7779.958525</td>\n",
       "      <td id=\"T_42162_row2_col12\" class=\"data row2 col12\" >10527.729997</td>\n",
       "      <td id=\"T_42162_row2_col13\" class=\"data row2 col13\" >9003.714286</td>\n",
       "      <td id=\"T_42162_row2_col14\" class=\"data row2 col14\" >12273.774451</td>\n",
       "      <td id=\"T_42162_row2_col15\" class=\"data row2 col15\" >10215.981567</td>\n",
       "      <td id=\"T_42162_row2_col16\" class=\"data row2 col16\" >14165.463126</td>\n",
       "      <td id=\"T_42162_row2_col17\" class=\"data row2 col17\" >11417.133641</td>\n",
       "      <td id=\"T_42162_row2_col18\" class=\"data row2 col18\" >16334.780819</td>\n",
       "      <td id=\"T_42162_row2_col19\" class=\"data row2 col19\" >12596.566820</td>\n",
       "      <td id=\"T_42162_row2_col20\" class=\"data row2 col20\" >18702.790770</td>\n",
       "      <td id=\"T_42162_row2_col21\" class=\"data row2 col21\" >13773.433180</td>\n",
       "      <td id=\"T_42162_row2_col22\" class=\"data row2 col22\" >21303.795168</td>\n",
       "      <td id=\"T_42162_row2_col23\" class=\"data row2 col23\" >14925.405530</td>\n",
       "      <td id=\"T_42162_row2_col24\" class=\"data row2 col24\" >24184.558190</td>\n",
       "      <td id=\"T_42162_row2_col25\" class=\"data row2 col25\" >16061.119816</td>\n",
       "      <td id=\"T_42162_row2_col26\" class=\"data row2 col26\" >27446.183048</td>\n",
       "      <td id=\"T_42162_row2_col27\" class=\"data row2 col27\" >17200.944700</td>\n",
       "    </tr>\n",
       "    <tr>\n",
       "      <th id=\"T_42162_level0_row3\" class=\"row_heading level0 row3\" >RMSE</th>\n",
       "      <td id=\"T_42162_row3_col0\" class=\"data row3 col0\" >11723.559124</td>\n",
       "      <td id=\"T_42162_row3_col1\" class=\"data row3 col1\" >2585.119863</td>\n",
       "      <td id=\"T_42162_row3_col2\" class=\"data row3 col2\" >12506.895246</td>\n",
       "      <td id=\"T_42162_row3_col3\" class=\"data row3 col3\" >4760.105581</td>\n",
       "      <td id=\"T_42162_row3_col4\" class=\"data row3 col4\" >13667.621230</td>\n",
       "      <td id=\"T_42162_row3_col5\" class=\"data row3 col5\" >6864.268144</td>\n",
       "      <td id=\"T_42162_row3_col6\" class=\"data row3 col6\" >15146.503795</td>\n",
       "      <td id=\"T_42162_row3_col7\" class=\"data row3 col7\" >8933.109304</td>\n",
       "      <td id=\"T_42162_row3_col8\" class=\"data row3 col8\" >17071.108145</td>\n",
       "      <td id=\"T_42162_row3_col9\" class=\"data row3 col9\" >10965.309805</td>\n",
       "      <td id=\"T_42162_row3_col10\" class=\"data row3 col10\" >19656.533333</td>\n",
       "      <td id=\"T_42162_row3_col11\" class=\"data row3 col11\" >12998.013451</td>\n",
       "      <td id=\"T_42162_row3_col12\" class=\"data row3 col12\" >23112.459866</td>\n",
       "      <td id=\"T_42162_row3_col13\" class=\"data row3 col13\" >15034.102729</td>\n",
       "      <td id=\"T_42162_row3_col14\" class=\"data row3 col14\" >27327.248157</td>\n",
       "      <td id=\"T_42162_row3_col15\" class=\"data row3 col15\" >17004.214598</td>\n",
       "      <td id=\"T_42162_row3_col16\" class=\"data row3 col16\" >32239.159156</td>\n",
       "      <td id=\"T_42162_row3_col17\" class=\"data row3 col17\" >18948.549537</td>\n",
       "      <td id=\"T_42162_row3_col18\" class=\"data row3 col18\" >37762.559361</td>\n",
       "      <td id=\"T_42162_row3_col19\" class=\"data row3 col19\" >20853.771438</td>\n",
       "      <td id=\"T_42162_row3_col20\" class=\"data row3 col20\" >43958.705383</td>\n",
       "      <td id=\"T_42162_row3_col21\" class=\"data row3 col21\" >22727.794802</td>\n",
       "      <td id=\"T_42162_row3_col22\" class=\"data row3 col22\" >51007.407898</td>\n",
       "      <td id=\"T_42162_row3_col23\" class=\"data row3 col23\" >24577.070420</td>\n",
       "      <td id=\"T_42162_row3_col24\" class=\"data row3 col24\" >59110.135393</td>\n",
       "      <td id=\"T_42162_row3_col25\" class=\"data row3 col25\" >26400.818155</td>\n",
       "      <td id=\"T_42162_row3_col26\" class=\"data row3 col26\" >68210.702153</td>\n",
       "      <td id=\"T_42162_row3_col27\" class=\"data row3 col27\" >28196.079603</td>\n",
       "    </tr>\n",
       "    <tr>\n",
       "      <th id=\"T_42162_level0_row4\" class=\"row_heading level0 row4\" >MAPE</th>\n",
       "      <td id=\"T_42162_row4_col0\" class=\"data row4 col0\" >0.118813</td>\n",
       "      <td id=\"T_42162_row4_col1\" class=\"data row4 col1\" >0.043552</td>\n",
       "      <td id=\"T_42162_row4_col2\" class=\"data row4 col2\" >0.135478</td>\n",
       "      <td id=\"T_42162_row4_col3\" class=\"data row4 col3\" >0.082653</td>\n",
       "      <td id=\"T_42162_row4_col4\" class=\"data row4 col4\" >0.155890</td>\n",
       "      <td id=\"T_42162_row4_col5\" class=\"data row4 col5\" >0.120091</td>\n",
       "      <td id=\"T_42162_row4_col6\" class=\"data row4 col6\" >0.178483</td>\n",
       "      <td id=\"T_42162_row4_col7\" class=\"data row4 col7\" >0.155289</td>\n",
       "      <td id=\"T_42162_row4_col8\" class=\"data row4 col8\" >0.202018</td>\n",
       "      <td id=\"T_42162_row4_col9\" class=\"data row4 col9\" >0.190445</td>\n",
       "      <td id=\"T_42162_row4_col10\" class=\"data row4 col10\" >0.227451</td>\n",
       "      <td id=\"T_42162_row4_col11\" class=\"data row4 col11\" >0.224723</td>\n",
       "      <td id=\"T_42162_row4_col12\" class=\"data row4 col12\" >0.257079</td>\n",
       "      <td id=\"T_42162_row4_col13\" class=\"data row4 col13\" >0.259413</td>\n",
       "      <td id=\"T_42162_row4_col14\" class=\"data row4 col14\" >0.292642</td>\n",
       "      <td id=\"T_42162_row4_col15\" class=\"data row4 col15\" >0.293940</td>\n",
       "      <td id=\"T_42162_row4_col16\" class=\"data row4 col16\" >0.330733</td>\n",
       "      <td id=\"T_42162_row4_col17\" class=\"data row4 col17\" >0.328314</td>\n",
       "      <td id=\"T_42162_row4_col18\" class=\"data row4 col18\" >0.370708</td>\n",
       "      <td id=\"T_42162_row4_col19\" class=\"data row4 col19\" >0.362778</td>\n",
       "      <td id=\"T_42162_row4_col20\" class=\"data row4 col20\" >0.411872</td>\n",
       "      <td id=\"T_42162_row4_col21\" class=\"data row4 col21\" >0.397348</td>\n",
       "      <td id=\"T_42162_row4_col22\" class=\"data row4 col22\" >0.455102</td>\n",
       "      <td id=\"T_42162_row4_col23\" class=\"data row4 col23\" >0.431505</td>\n",
       "      <td id=\"T_42162_row4_col24\" class=\"data row4 col24\" >0.501415</td>\n",
       "      <td id=\"T_42162_row4_col25\" class=\"data row4 col25\" >0.465113</td>\n",
       "      <td id=\"T_42162_row4_col26\" class=\"data row4 col26\" >0.552026</td>\n",
       "      <td id=\"T_42162_row4_col27\" class=\"data row4 col27\" >0.499546</td>\n",
       "    </tr>\n",
       "  </tbody>\n",
       "</table>\n"
      ],
      "text/plain": [
       "<pandas.io.formats.style.Styler at 0x29b2d9c8d30>"
      ]
     },
     "execution_count": 28,
     "metadata": {},
     "output_type": "execute_result"
    }
   ],
   "source": [
    "# evaluate the model\n",
    "w_e = WindowFit(window_size=20, steps_ahead=14, data=test_data, eval_mode='WF')\n",
    "e = w_e.evaluate()\n",
    "# show the evaluation as DataFrame\n",
    "pd.DataFrame(e).style.highlight_min(axis=1)"
   ]
  },
  {
   "cell_type": "markdown",
   "metadata": {},
   "source": [
    "It should be noted that the lower the error, the better the forecast. In this analysis the point of interest is the 14-day forecast. #TODO: ampliar a estudio a largo plazo también."
   ]
  },
  {
   "cell_type": "markdown",
   "metadata": {},
   "source": [
    "## Trial-error best window size\n",
    "\n",
    "The code below evaluates the results for different window sizes and the table highlights the best ones (lower ones). "
   ]
  },
  {
   "cell_type": "code",
   "execution_count": 30,
   "metadata": {},
   "outputs": [
    {
     "name": "stdout",
     "output_type": "stream",
     "text": [
      "Evaluating SIR for window size 2...\n",
      "Evaluating SIR for window size 3...\n",
      "Evaluating SIR for window size 4...\n",
      "Evaluating SIR for window size 5...\n",
      "Evaluating SIR for window size 6...\n",
      "Evaluating SIR for window size 7...\n",
      "Evaluating SIR for window size 8...\n",
      "Evaluating SIR for window size 9...\n",
      "Evaluating SIR for window size 10...\n",
      "Evaluating SIR for window size 11...\n",
      "Evaluating SIR for window size 12...\n",
      "Evaluating SIR for window size 13...\n",
      "Evaluating SIR for window size 14...\n",
      "Evaluating SIR for window size 15...\n",
      "Evaluating SIR for window size 16...\n",
      "Evaluating SIR for window size 17...\n",
      "Evaluating SIR for window size 18...\n",
      "Evaluating SIR for window size 19...\n",
      "Evaluating SIR for window size 20...\n",
      "Evaluating SIR for window size 21...\n",
      "Evaluating SIR for window size 22...\n",
      "Evaluating SIR for window size 23...\n",
      "Evaluating SIR for window size 24...\n",
      "Evaluating SIR for window size 25...\n",
      "Evaluating SIR for window size 26...\n",
      "Evaluating SIR for window size 27...\n",
      "Evaluating SIR for window size 28...\n",
      "Evaluating SIR for window size 29...\n",
      "Evaluating SIR for window size 30...\n",
      "Evaluating SIR for window size 31...\n",
      "Evaluating SIR for window size 32...\n",
      "Evaluating SIR for window size 33...\n",
      "Evaluating SIR for window size 34...\n",
      "Evaluating SIR for window size 35...\n",
      "Evaluating SIR for window size 36...\n",
      "Evaluating SIR for window size 37...\n",
      "Evaluating SIR for window size 38...\n",
      "Evaluating SIR for window size 39...\n",
      "Evaluating SIR for window size 40...\n",
      "Evaluating SIR for window size 41...\n",
      "Evaluating SIR for window size 42...\n",
      "Evaluating SIR for window size 43...\n",
      "Evaluating SIR for window size 44...\n",
      "Evaluating SIR for window size 45...\n",
      "Evaluating SIR for window size 46...\n",
      "Evaluating SIR for window size 47...\n",
      "Evaluating SIR for window size 48...\n",
      "Evaluating SIR for window size 49...\n",
      "Evaluating SIR for window size 50...\n",
      "Evaluating SIR for window size 51...\n",
      "Evaluating SIR for window size 52...\n",
      "Evaluating SIR for window size 53...\n",
      "Evaluating SIR for window size 54...\n",
      "Evaluating SIR for window size 55...\n",
      "Evaluating SIR for window size 56...\n",
      "Evaluating SIR for window size 57...\n",
      "Evaluating SIR for window size 58...\n",
      "Evaluating SIR for window size 59...\n"
     ]
    }
   ],
   "source": [
    "eval_window_size = {}\n",
    "\n",
    "for window_size in range(2, 60):\n",
    "    print(f'Evaluating SIR for window size {window_size}...')\n",
    "    w = WindowFit(window_size, 14, data=train_data, eval_mode='WF')\n",
    "    evaluation_metrics = w.evaluate()\n",
    "    \n",
    "    window_error = evaluation_metrics['step_14']\n",
    "\n",
    "    eval_window_size[f'window_size_{window_size}'] = window_error"
   ]
  },
  {
   "cell_type": "code",
   "execution_count": 31,
   "metadata": {},
   "outputs": [
    {
     "data": {
      "text/html": [
       "<style type=\"text/css\">\n",
       "#T_1583f_row0_col3, #T_1583f_row1_col21, #T_1583f_row2_col20, #T_1583f_row3_col20, #T_1583f_row4_col19 {\n",
       "  background-color: yellow;\n",
       "}\n",
       "</style>\n",
       "<table id=\"T_1583f\">\n",
       "  <thead>\n",
       "    <tr>\n",
       "      <th class=\"blank level0\" >&nbsp;</th>\n",
       "      <th id=\"T_1583f_level0_col0\" class=\"col_heading level0 col0\" >window_size_2</th>\n",
       "      <th id=\"T_1583f_level0_col1\" class=\"col_heading level0 col1\" >window_size_3</th>\n",
       "      <th id=\"T_1583f_level0_col2\" class=\"col_heading level0 col2\" >window_size_4</th>\n",
       "      <th id=\"T_1583f_level0_col3\" class=\"col_heading level0 col3\" >window_size_5</th>\n",
       "      <th id=\"T_1583f_level0_col4\" class=\"col_heading level0 col4\" >window_size_6</th>\n",
       "      <th id=\"T_1583f_level0_col5\" class=\"col_heading level0 col5\" >window_size_7</th>\n",
       "      <th id=\"T_1583f_level0_col6\" class=\"col_heading level0 col6\" >window_size_8</th>\n",
       "      <th id=\"T_1583f_level0_col7\" class=\"col_heading level0 col7\" >window_size_9</th>\n",
       "      <th id=\"T_1583f_level0_col8\" class=\"col_heading level0 col8\" >window_size_10</th>\n",
       "      <th id=\"T_1583f_level0_col9\" class=\"col_heading level0 col9\" >window_size_11</th>\n",
       "      <th id=\"T_1583f_level0_col10\" class=\"col_heading level0 col10\" >window_size_12</th>\n",
       "      <th id=\"T_1583f_level0_col11\" class=\"col_heading level0 col11\" >window_size_13</th>\n",
       "      <th id=\"T_1583f_level0_col12\" class=\"col_heading level0 col12\" >window_size_14</th>\n",
       "      <th id=\"T_1583f_level0_col13\" class=\"col_heading level0 col13\" >window_size_15</th>\n",
       "      <th id=\"T_1583f_level0_col14\" class=\"col_heading level0 col14\" >window_size_16</th>\n",
       "      <th id=\"T_1583f_level0_col15\" class=\"col_heading level0 col15\" >window_size_17</th>\n",
       "      <th id=\"T_1583f_level0_col16\" class=\"col_heading level0 col16\" >window_size_18</th>\n",
       "      <th id=\"T_1583f_level0_col17\" class=\"col_heading level0 col17\" >window_size_19</th>\n",
       "      <th id=\"T_1583f_level0_col18\" class=\"col_heading level0 col18\" >window_size_20</th>\n",
       "      <th id=\"T_1583f_level0_col19\" class=\"col_heading level0 col19\" >window_size_21</th>\n",
       "      <th id=\"T_1583f_level0_col20\" class=\"col_heading level0 col20\" >window_size_22</th>\n",
       "      <th id=\"T_1583f_level0_col21\" class=\"col_heading level0 col21\" >window_size_23</th>\n",
       "      <th id=\"T_1583f_level0_col22\" class=\"col_heading level0 col22\" >window_size_24</th>\n",
       "      <th id=\"T_1583f_level0_col23\" class=\"col_heading level0 col23\" >window_size_25</th>\n",
       "      <th id=\"T_1583f_level0_col24\" class=\"col_heading level0 col24\" >window_size_26</th>\n",
       "      <th id=\"T_1583f_level0_col25\" class=\"col_heading level0 col25\" >window_size_27</th>\n",
       "      <th id=\"T_1583f_level0_col26\" class=\"col_heading level0 col26\" >window_size_28</th>\n",
       "      <th id=\"T_1583f_level0_col27\" class=\"col_heading level0 col27\" >window_size_29</th>\n",
       "      <th id=\"T_1583f_level0_col28\" class=\"col_heading level0 col28\" >window_size_30</th>\n",
       "      <th id=\"T_1583f_level0_col29\" class=\"col_heading level0 col29\" >window_size_31</th>\n",
       "      <th id=\"T_1583f_level0_col30\" class=\"col_heading level0 col30\" >window_size_32</th>\n",
       "      <th id=\"T_1583f_level0_col31\" class=\"col_heading level0 col31\" >window_size_33</th>\n",
       "      <th id=\"T_1583f_level0_col32\" class=\"col_heading level0 col32\" >window_size_34</th>\n",
       "      <th id=\"T_1583f_level0_col33\" class=\"col_heading level0 col33\" >window_size_35</th>\n",
       "      <th id=\"T_1583f_level0_col34\" class=\"col_heading level0 col34\" >window_size_36</th>\n",
       "      <th id=\"T_1583f_level0_col35\" class=\"col_heading level0 col35\" >window_size_37</th>\n",
       "      <th id=\"T_1583f_level0_col36\" class=\"col_heading level0 col36\" >window_size_38</th>\n",
       "      <th id=\"T_1583f_level0_col37\" class=\"col_heading level0 col37\" >window_size_39</th>\n",
       "      <th id=\"T_1583f_level0_col38\" class=\"col_heading level0 col38\" >window_size_40</th>\n",
       "      <th id=\"T_1583f_level0_col39\" class=\"col_heading level0 col39\" >window_size_41</th>\n",
       "      <th id=\"T_1583f_level0_col40\" class=\"col_heading level0 col40\" >window_size_42</th>\n",
       "      <th id=\"T_1583f_level0_col41\" class=\"col_heading level0 col41\" >window_size_43</th>\n",
       "      <th id=\"T_1583f_level0_col42\" class=\"col_heading level0 col42\" >window_size_44</th>\n",
       "      <th id=\"T_1583f_level0_col43\" class=\"col_heading level0 col43\" >window_size_45</th>\n",
       "      <th id=\"T_1583f_level0_col44\" class=\"col_heading level0 col44\" >window_size_46</th>\n",
       "      <th id=\"T_1583f_level0_col45\" class=\"col_heading level0 col45\" >window_size_47</th>\n",
       "      <th id=\"T_1583f_level0_col46\" class=\"col_heading level0 col46\" >window_size_48</th>\n",
       "      <th id=\"T_1583f_level0_col47\" class=\"col_heading level0 col47\" >window_size_49</th>\n",
       "      <th id=\"T_1583f_level0_col48\" class=\"col_heading level0 col48\" >window_size_50</th>\n",
       "      <th id=\"T_1583f_level0_col49\" class=\"col_heading level0 col49\" >window_size_51</th>\n",
       "      <th id=\"T_1583f_level0_col50\" class=\"col_heading level0 col50\" >window_size_52</th>\n",
       "      <th id=\"T_1583f_level0_col51\" class=\"col_heading level0 col51\" >window_size_53</th>\n",
       "      <th id=\"T_1583f_level0_col52\" class=\"col_heading level0 col52\" >window_size_54</th>\n",
       "      <th id=\"T_1583f_level0_col53\" class=\"col_heading level0 col53\" >window_size_55</th>\n",
       "      <th id=\"T_1583f_level0_col54\" class=\"col_heading level0 col54\" >window_size_56</th>\n",
       "      <th id=\"T_1583f_level0_col55\" class=\"col_heading level0 col55\" >window_size_57</th>\n",
       "      <th id=\"T_1583f_level0_col56\" class=\"col_heading level0 col56\" >window_size_58</th>\n",
       "      <th id=\"T_1583f_level0_col57\" class=\"col_heading level0 col57\" >window_size_59</th>\n",
       "    </tr>\n",
       "  </thead>\n",
       "  <tbody>\n",
       "    <tr>\n",
       "      <th id=\"T_1583f_level0_row0\" class=\"row_heading level0 row0\" >RMSLE</th>\n",
       "      <td id=\"T_1583f_row0_col0\" class=\"data row0 col0\" >1.363128</td>\n",
       "      <td id=\"T_1583f_row0_col1\" class=\"data row0 col1\" >1.315196</td>\n",
       "      <td id=\"T_1583f_row0_col2\" class=\"data row0 col2\" >1.278774</td>\n",
       "      <td id=\"T_1583f_row0_col3\" class=\"data row0 col3\" >1.275534</td>\n",
       "      <td id=\"T_1583f_row0_col4\" class=\"data row0 col4\" >1.308871</td>\n",
       "      <td id=\"T_1583f_row0_col5\" class=\"data row0 col5\" >1.335131</td>\n",
       "      <td id=\"T_1583f_row0_col6\" class=\"data row0 col6\" >1.341705</td>\n",
       "      <td id=\"T_1583f_row0_col7\" class=\"data row0 col7\" >1.350732</td>\n",
       "      <td id=\"T_1583f_row0_col8\" class=\"data row0 col8\" >1.364475</td>\n",
       "      <td id=\"T_1583f_row0_col9\" class=\"data row0 col9\" >1.372428</td>\n",
       "      <td id=\"T_1583f_row0_col10\" class=\"data row0 col10\" >1.374683</td>\n",
       "      <td id=\"T_1583f_row0_col11\" class=\"data row0 col11\" >1.378951</td>\n",
       "      <td id=\"T_1583f_row0_col12\" class=\"data row0 col12\" >1.379970</td>\n",
       "      <td id=\"T_1583f_row0_col13\" class=\"data row0 col13\" >1.373624</td>\n",
       "      <td id=\"T_1583f_row0_col14\" class=\"data row0 col14\" >1.351643</td>\n",
       "      <td id=\"T_1583f_row0_col15\" class=\"data row0 col15\" >1.327945</td>\n",
       "      <td id=\"T_1583f_row0_col16\" class=\"data row0 col16\" >1.312042</td>\n",
       "      <td id=\"T_1583f_row0_col17\" class=\"data row0 col17\" >1.308367</td>\n",
       "      <td id=\"T_1583f_row0_col18\" class=\"data row0 col18\" >1.315437</td>\n",
       "      <td id=\"T_1583f_row0_col19\" class=\"data row0 col19\" >1.322588</td>\n",
       "      <td id=\"T_1583f_row0_col20\" class=\"data row0 col20\" >1.330979</td>\n",
       "      <td id=\"T_1583f_row0_col21\" class=\"data row0 col21\" >1.341939</td>\n",
       "      <td id=\"T_1583f_row0_col22\" class=\"data row0 col22\" >1.354980</td>\n",
       "      <td id=\"T_1583f_row0_col23\" class=\"data row0 col23\" >1.372388</td>\n",
       "      <td id=\"T_1583f_row0_col24\" class=\"data row0 col24\" >1.394562</td>\n",
       "      <td id=\"T_1583f_row0_col25\" class=\"data row0 col25\" >1.418435</td>\n",
       "      <td id=\"T_1583f_row0_col26\" class=\"data row0 col26\" >1.441334</td>\n",
       "      <td id=\"T_1583f_row0_col27\" class=\"data row0 col27\" >1.469058</td>\n",
       "      <td id=\"T_1583f_row0_col28\" class=\"data row0 col28\" >1.501129</td>\n",
       "      <td id=\"T_1583f_row0_col29\" class=\"data row0 col29\" >1.538145</td>\n",
       "      <td id=\"T_1583f_row0_col30\" class=\"data row0 col30\" >1.576948</td>\n",
       "      <td id=\"T_1583f_row0_col31\" class=\"data row0 col31\" >1.614901</td>\n",
       "      <td id=\"T_1583f_row0_col32\" class=\"data row0 col32\" >1.650581</td>\n",
       "      <td id=\"T_1583f_row0_col33\" class=\"data row0 col33\" >1.681713</td>\n",
       "      <td id=\"T_1583f_row0_col34\" class=\"data row0 col34\" >1.709790</td>\n",
       "      <td id=\"T_1583f_row0_col35\" class=\"data row0 col35\" >1.733379</td>\n",
       "      <td id=\"T_1583f_row0_col36\" class=\"data row0 col36\" >1.751124</td>\n",
       "      <td id=\"T_1583f_row0_col37\" class=\"data row0 col37\" >1.763796</td>\n",
       "      <td id=\"T_1583f_row0_col38\" class=\"data row0 col38\" >1.774645</td>\n",
       "      <td id=\"T_1583f_row0_col39\" class=\"data row0 col39\" >1.783266</td>\n",
       "      <td id=\"T_1583f_row0_col40\" class=\"data row0 col40\" >1.790830</td>\n",
       "      <td id=\"T_1583f_row0_col41\" class=\"data row0 col41\" >1.796439</td>\n",
       "      <td id=\"T_1583f_row0_col42\" class=\"data row0 col42\" >1.800140</td>\n",
       "      <td id=\"T_1583f_row0_col43\" class=\"data row0 col43\" >1.802891</td>\n",
       "      <td id=\"T_1583f_row0_col44\" class=\"data row0 col44\" >1.804529</td>\n",
       "      <td id=\"T_1583f_row0_col45\" class=\"data row0 col45\" >1.804963</td>\n",
       "      <td id=\"T_1583f_row0_col46\" class=\"data row0 col46\" >1.805621</td>\n",
       "      <td id=\"T_1583f_row0_col47\" class=\"data row0 col47\" >1.806523</td>\n",
       "      <td id=\"T_1583f_row0_col48\" class=\"data row0 col48\" >1.807638</td>\n",
       "      <td id=\"T_1583f_row0_col49\" class=\"data row0 col49\" >1.809660</td>\n",
       "      <td id=\"T_1583f_row0_col50\" class=\"data row0 col50\" >1.812037</td>\n",
       "      <td id=\"T_1583f_row0_col51\" class=\"data row0 col51\" >1.814857</td>\n",
       "      <td id=\"T_1583f_row0_col52\" class=\"data row0 col52\" >1.818770</td>\n",
       "      <td id=\"T_1583f_row0_col53\" class=\"data row0 col53\" >1.824218</td>\n",
       "      <td id=\"T_1583f_row0_col54\" class=\"data row0 col54\" >1.832134</td>\n",
       "      <td id=\"T_1583f_row0_col55\" class=\"data row0 col55\" >1.842018</td>\n",
       "      <td id=\"T_1583f_row0_col56\" class=\"data row0 col56\" >1.855400</td>\n",
       "      <td id=\"T_1583f_row0_col57\" class=\"data row0 col57\" >1.870968</td>\n",
       "    </tr>\n",
       "    <tr>\n",
       "      <th id=\"T_1583f_level0_row1\" class=\"row_heading level0 row1\" >GMRAE</th>\n",
       "      <td id=\"T_1583f_row1_col0\" class=\"data row1 col0\" >0.925637</td>\n",
       "      <td id=\"T_1583f_row1_col1\" class=\"data row1 col1\" >0.866329</td>\n",
       "      <td id=\"T_1583f_row1_col2\" class=\"data row1 col2\" >0.830991</td>\n",
       "      <td id=\"T_1583f_row1_col3\" class=\"data row1 col3\" >0.798432</td>\n",
       "      <td id=\"T_1583f_row1_col4\" class=\"data row1 col4\" >0.798106</td>\n",
       "      <td id=\"T_1583f_row1_col5\" class=\"data row1 col5\" >0.809107</td>\n",
       "      <td id=\"T_1583f_row1_col6\" class=\"data row1 col6\" >0.783823</td>\n",
       "      <td id=\"T_1583f_row1_col7\" class=\"data row1 col7\" >0.739606</td>\n",
       "      <td id=\"T_1583f_row1_col8\" class=\"data row1 col8\" >0.748043</td>\n",
       "      <td id=\"T_1583f_row1_col9\" class=\"data row1 col9\" >0.773575</td>\n",
       "      <td id=\"T_1583f_row1_col10\" class=\"data row1 col10\" >0.764522</td>\n",
       "      <td id=\"T_1583f_row1_col11\" class=\"data row1 col11\" >0.734875</td>\n",
       "      <td id=\"T_1583f_row1_col12\" class=\"data row1 col12\" >0.750700</td>\n",
       "      <td id=\"T_1583f_row1_col13\" class=\"data row1 col13\" >0.797422</td>\n",
       "      <td id=\"T_1583f_row1_col14\" class=\"data row1 col14\" >0.779856</td>\n",
       "      <td id=\"T_1583f_row1_col15\" class=\"data row1 col15\" >0.775173</td>\n",
       "      <td id=\"T_1583f_row1_col16\" class=\"data row1 col16\" >0.748768</td>\n",
       "      <td id=\"T_1583f_row1_col17\" class=\"data row1 col17\" >0.703452</td>\n",
       "      <td id=\"T_1583f_row1_col18\" class=\"data row1 col18\" >0.692245</td>\n",
       "      <td id=\"T_1583f_row1_col19\" class=\"data row1 col19\" >0.649791</td>\n",
       "      <td id=\"T_1583f_row1_col20\" class=\"data row1 col20\" >0.649909</td>\n",
       "      <td id=\"T_1583f_row1_col21\" class=\"data row1 col21\" >0.641338</td>\n",
       "      <td id=\"T_1583f_row1_col22\" class=\"data row1 col22\" >0.695129</td>\n",
       "      <td id=\"T_1583f_row1_col23\" class=\"data row1 col23\" >0.702519</td>\n",
       "      <td id=\"T_1583f_row1_col24\" class=\"data row1 col24\" >0.739670</td>\n",
       "      <td id=\"T_1583f_row1_col25\" class=\"data row1 col25\" >0.802995</td>\n",
       "      <td id=\"T_1583f_row1_col26\" class=\"data row1 col26\" >0.850704</td>\n",
       "      <td id=\"T_1583f_row1_col27\" class=\"data row1 col27\" >0.820100</td>\n",
       "      <td id=\"T_1583f_row1_col28\" class=\"data row1 col28\" >0.886874</td>\n",
       "      <td id=\"T_1583f_row1_col29\" class=\"data row1 col29\" >0.897183</td>\n",
       "      <td id=\"T_1583f_row1_col30\" class=\"data row1 col30\" >0.891866</td>\n",
       "      <td id=\"T_1583f_row1_col31\" class=\"data row1 col31\" >0.881638</td>\n",
       "      <td id=\"T_1583f_row1_col32\" class=\"data row1 col32\" >0.872068</td>\n",
       "      <td id=\"T_1583f_row1_col33\" class=\"data row1 col33\" >0.903852</td>\n",
       "      <td id=\"T_1583f_row1_col34\" class=\"data row1 col34\" >0.943003</td>\n",
       "      <td id=\"T_1583f_row1_col35\" class=\"data row1 col35\" >0.959866</td>\n",
       "      <td id=\"T_1583f_row1_col36\" class=\"data row1 col36\" >0.963488</td>\n",
       "      <td id=\"T_1583f_row1_col37\" class=\"data row1 col37\" >0.991156</td>\n",
       "      <td id=\"T_1583f_row1_col38\" class=\"data row1 col38\" >0.994201</td>\n",
       "      <td id=\"T_1583f_row1_col39\" class=\"data row1 col39\" >0.947645</td>\n",
       "      <td id=\"T_1583f_row1_col40\" class=\"data row1 col40\" >0.977583</td>\n",
       "      <td id=\"T_1583f_row1_col41\" class=\"data row1 col41\" >1.065599</td>\n",
       "      <td id=\"T_1583f_row1_col42\" class=\"data row1 col42\" >1.145010</td>\n",
       "      <td id=\"T_1583f_row1_col43\" class=\"data row1 col43\" >1.227041</td>\n",
       "      <td id=\"T_1583f_row1_col44\" class=\"data row1 col44\" >1.278380</td>\n",
       "      <td id=\"T_1583f_row1_col45\" class=\"data row1 col45\" >1.327145</td>\n",
       "      <td id=\"T_1583f_row1_col46\" class=\"data row1 col46\" >1.370277</td>\n",
       "      <td id=\"T_1583f_row1_col47\" class=\"data row1 col47\" >1.447841</td>\n",
       "      <td id=\"T_1583f_row1_col48\" class=\"data row1 col48\" >1.441629</td>\n",
       "      <td id=\"T_1583f_row1_col49\" class=\"data row1 col49\" >1.501860</td>\n",
       "      <td id=\"T_1583f_row1_col50\" class=\"data row1 col50\" >1.553112</td>\n",
       "      <td id=\"T_1583f_row1_col51\" class=\"data row1 col51\" >1.612425</td>\n",
       "      <td id=\"T_1583f_row1_col52\" class=\"data row1 col52\" >1.682434</td>\n",
       "      <td id=\"T_1583f_row1_col53\" class=\"data row1 col53\" >1.760116</td>\n",
       "      <td id=\"T_1583f_row1_col54\" class=\"data row1 col54\" >1.806551</td>\n",
       "      <td id=\"T_1583f_row1_col55\" class=\"data row1 col55\" >1.917637</td>\n",
       "      <td id=\"T_1583f_row1_col56\" class=\"data row1 col56\" >1.981044</td>\n",
       "      <td id=\"T_1583f_row1_col57\" class=\"data row1 col57\" >2.204400</td>\n",
       "    </tr>\n",
       "    <tr>\n",
       "      <th id=\"T_1583f_level0_row2\" class=\"row_heading level0 row2\" >MAE</th>\n",
       "      <td id=\"T_1583f_row2_col0\" class=\"data row2 col0\" >22967.089105</td>\n",
       "      <td id=\"T_1583f_row2_col1\" class=\"data row2 col1\" >14903.031662</td>\n",
       "      <td id=\"T_1583f_row2_col2\" class=\"data row2 col2\" >11132.068192</td>\n",
       "      <td id=\"T_1583f_row2_col3\" class=\"data row2 col3\" >10708.298201</td>\n",
       "      <td id=\"T_1583f_row2_col4\" class=\"data row2 col4\" >11279.928935</td>\n",
       "      <td id=\"T_1583f_row2_col5\" class=\"data row2 col5\" >11749.155403</td>\n",
       "      <td id=\"T_1583f_row2_col6\" class=\"data row2 col6\" >11928.980405</td>\n",
       "      <td id=\"T_1583f_row2_col7\" class=\"data row2 col7\" >12043.491727</td>\n",
       "      <td id=\"T_1583f_row2_col8\" class=\"data row2 col8\" >11962.706009</td>\n",
       "      <td id=\"T_1583f_row2_col9\" class=\"data row2 col9\" >11713.298303</td>\n",
       "      <td id=\"T_1583f_row2_col10\" class=\"data row2 col10\" >11381.493072</td>\n",
       "      <td id=\"T_1583f_row2_col11\" class=\"data row2 col11\" >11092.925833</td>\n",
       "      <td id=\"T_1583f_row2_col12\" class=\"data row2 col12\" >10206.630492</td>\n",
       "      <td id=\"T_1583f_row2_col13\" class=\"data row2 col13\" >8612.844017</td>\n",
       "      <td id=\"T_1583f_row2_col14\" class=\"data row2 col14\" >6263.973094</td>\n",
       "      <td id=\"T_1583f_row2_col15\" class=\"data row2 col15\" >4091.213940</td>\n",
       "      <td id=\"T_1583f_row2_col16\" class=\"data row2 col16\" >2673.375566</td>\n",
       "      <td id=\"T_1583f_row2_col17\" class=\"data row2 col17\" >2044.405835</td>\n",
       "      <td id=\"T_1583f_row2_col18\" class=\"data row2 col18\" >1863.903725</td>\n",
       "      <td id=\"T_1583f_row2_col19\" class=\"data row2 col19\" >1750.083980</td>\n",
       "      <td id=\"T_1583f_row2_col20\" class=\"data row2 col20\" >1725.642270</td>\n",
       "      <td id=\"T_1583f_row2_col21\" class=\"data row2 col21\" >1763.029840</td>\n",
       "      <td id=\"T_1583f_row2_col22\" class=\"data row2 col22\" >1836.873031</td>\n",
       "      <td id=\"T_1583f_row2_col23\" class=\"data row2 col23\" >1895.753785</td>\n",
       "      <td id=\"T_1583f_row2_col24\" class=\"data row2 col24\" >1939.571839</td>\n",
       "      <td id=\"T_1583f_row2_col25\" class=\"data row2 col25\" >1968.877209</td>\n",
       "      <td id=\"T_1583f_row2_col26\" class=\"data row2 col26\" >1991.876516</td>\n",
       "      <td id=\"T_1583f_row2_col27\" class=\"data row2 col27\" >2009.012108</td>\n",
       "      <td id=\"T_1583f_row2_col28\" class=\"data row2 col28\" >2024.455168</td>\n",
       "      <td id=\"T_1583f_row2_col29\" class=\"data row2 col29\" >2034.399365</td>\n",
       "      <td id=\"T_1583f_row2_col30\" class=\"data row2 col30\" >2038.324931</td>\n",
       "      <td id=\"T_1583f_row2_col31\" class=\"data row2 col31\" >2042.695986</td>\n",
       "      <td id=\"T_1583f_row2_col32\" class=\"data row2 col32\" >2050.451668</td>\n",
       "      <td id=\"T_1583f_row2_col33\" class=\"data row2 col33\" >2068.945958</td>\n",
       "      <td id=\"T_1583f_row2_col34\" class=\"data row2 col34\" >2088.973776</td>\n",
       "      <td id=\"T_1583f_row2_col35\" class=\"data row2 col35\" >2102.493414</td>\n",
       "      <td id=\"T_1583f_row2_col36\" class=\"data row2 col36\" >2117.111436</td>\n",
       "      <td id=\"T_1583f_row2_col37\" class=\"data row2 col37\" >2138.172982</td>\n",
       "      <td id=\"T_1583f_row2_col38\" class=\"data row2 col38\" >2159.977827</td>\n",
       "      <td id=\"T_1583f_row2_col39\" class=\"data row2 col39\" >2195.952916</td>\n",
       "      <td id=\"T_1583f_row2_col40\" class=\"data row2 col40\" >2259.995877</td>\n",
       "      <td id=\"T_1583f_row2_col41\" class=\"data row2 col41\" >2346.099044</td>\n",
       "      <td id=\"T_1583f_row2_col42\" class=\"data row2 col42\" >2436.110004</td>\n",
       "      <td id=\"T_1583f_row2_col43\" class=\"data row2 col43\" >2538.248807</td>\n",
       "      <td id=\"T_1583f_row2_col44\" class=\"data row2 col44\" >2640.398505</td>\n",
       "      <td id=\"T_1583f_row2_col45\" class=\"data row2 col45\" >2742.455276</td>\n",
       "      <td id=\"T_1583f_row2_col46\" class=\"data row2 col46\" >2848.558610</td>\n",
       "      <td id=\"T_1583f_row2_col47\" class=\"data row2 col47\" >2961.775045</td>\n",
       "      <td id=\"T_1583f_row2_col48\" class=\"data row2 col48\" >3074.268505</td>\n",
       "      <td id=\"T_1583f_row2_col49\" class=\"data row2 col49\" >3203.668888</td>\n",
       "      <td id=\"T_1583f_row2_col50\" class=\"data row2 col50\" >3339.987942</td>\n",
       "      <td id=\"T_1583f_row2_col51\" class=\"data row2 col51\" >3486.472960</td>\n",
       "      <td id=\"T_1583f_row2_col52\" class=\"data row2 col52\" >3637.386905</td>\n",
       "      <td id=\"T_1583f_row2_col53\" class=\"data row2 col53\" >3799.195364</td>\n",
       "      <td id=\"T_1583f_row2_col54\" class=\"data row2 col54\" >3964.927412</td>\n",
       "      <td id=\"T_1583f_row2_col55\" class=\"data row2 col55\" >4147.982648</td>\n",
       "      <td id=\"T_1583f_row2_col56\" class=\"data row2 col56\" >4339.287087</td>\n",
       "      <td id=\"T_1583f_row2_col57\" class=\"data row2 col57\" >4552.079079</td>\n",
       "    </tr>\n",
       "    <tr>\n",
       "      <th id=\"T_1583f_level0_row3\" class=\"row_heading level0 row3\" >RMSE</th>\n",
       "      <td id=\"T_1583f_row3_col0\" class=\"data row3 col0\" >175044.708279</td>\n",
       "      <td id=\"T_1583f_row3_col1\" class=\"data row3 col1\" >78983.230919</td>\n",
       "      <td id=\"T_1583f_row3_col2\" class=\"data row3 col2\" >42792.071514</td>\n",
       "      <td id=\"T_1583f_row3_col3\" class=\"data row3 col3\" >41387.800044</td>\n",
       "      <td id=\"T_1583f_row3_col4\" class=\"data row3 col4\" >44212.700848</td>\n",
       "      <td id=\"T_1583f_row3_col5\" class=\"data row3 col5\" >47143.074218</td>\n",
       "      <td id=\"T_1583f_row3_col6\" class=\"data row3 col6\" >49849.471808</td>\n",
       "      <td id=\"T_1583f_row3_col7\" class=\"data row3 col7\" >52857.837170</td>\n",
       "      <td id=\"T_1583f_row3_col8\" class=\"data row3 col8\" >54761.630102</td>\n",
       "      <td id=\"T_1583f_row3_col9\" class=\"data row3 col9\" >55167.938590</td>\n",
       "      <td id=\"T_1583f_row3_col10\" class=\"data row3 col10\" >56192.278462</td>\n",
       "      <td id=\"T_1583f_row3_col11\" class=\"data row3 col11\" >58082.071482</td>\n",
       "      <td id=\"T_1583f_row3_col12\" class=\"data row3 col12\" >54976.574857</td>\n",
       "      <td id=\"T_1583f_row3_col13\" class=\"data row3 col13\" >44603.900316</td>\n",
       "      <td id=\"T_1583f_row3_col14\" class=\"data row3 col14\" >30555.873184</td>\n",
       "      <td id=\"T_1583f_row3_col15\" class=\"data row3 col15\" >17456.391622</td>\n",
       "      <td id=\"T_1583f_row3_col16\" class=\"data row3 col16\" >7106.672070</td>\n",
       "      <td id=\"T_1583f_row3_col17\" class=\"data row3 col17\" >3335.383561</td>\n",
       "      <td id=\"T_1583f_row3_col18\" class=\"data row3 col18\" >3024.718405</td>\n",
       "      <td id=\"T_1583f_row3_col19\" class=\"data row3 col19\" >2867.713903</td>\n",
       "      <td id=\"T_1583f_row3_col20\" class=\"data row3 col20\" >2840.576981</td>\n",
       "      <td id=\"T_1583f_row3_col21\" class=\"data row3 col21\" >2877.447943</td>\n",
       "      <td id=\"T_1583f_row3_col22\" class=\"data row3 col22\" >2931.028574</td>\n",
       "      <td id=\"T_1583f_row3_col23\" class=\"data row3 col23\" >2988.899988</td>\n",
       "      <td id=\"T_1583f_row3_col24\" class=\"data row3 col24\" >3034.719503</td>\n",
       "      <td id=\"T_1583f_row3_col25\" class=\"data row3 col25\" >3069.755465</td>\n",
       "      <td id=\"T_1583f_row3_col26\" class=\"data row3 col26\" >3109.337618</td>\n",
       "      <td id=\"T_1583f_row3_col27\" class=\"data row3 col27\" >3151.979735</td>\n",
       "      <td id=\"T_1583f_row3_col28\" class=\"data row3 col28\" >3196.939379</td>\n",
       "      <td id=\"T_1583f_row3_col29\" class=\"data row3 col29\" >3256.606765</td>\n",
       "      <td id=\"T_1583f_row3_col30\" class=\"data row3 col30\" >3325.572904</td>\n",
       "      <td id=\"T_1583f_row3_col31\" class=\"data row3 col31\" >3407.425320</td>\n",
       "      <td id=\"T_1583f_row3_col32\" class=\"data row3 col32\" >3513.775401</td>\n",
       "      <td id=\"T_1583f_row3_col33\" class=\"data row3 col33\" >3634.743670</td>\n",
       "      <td id=\"T_1583f_row3_col34\" class=\"data row3 col34\" >3776.438967</td>\n",
       "      <td id=\"T_1583f_row3_col35\" class=\"data row3 col35\" >3935.413030</td>\n",
       "      <td id=\"T_1583f_row3_col36\" class=\"data row3 col36\" >4106.378800</td>\n",
       "      <td id=\"T_1583f_row3_col37\" class=\"data row3 col37\" >4291.380821</td>\n",
       "      <td id=\"T_1583f_row3_col38\" class=\"data row3 col38\" >4493.771303</td>\n",
       "      <td id=\"T_1583f_row3_col39\" class=\"data row3 col39\" >4709.466682</td>\n",
       "      <td id=\"T_1583f_row3_col40\" class=\"data row3 col40\" >4933.740148</td>\n",
       "      <td id=\"T_1583f_row3_col41\" class=\"data row3 col41\" >5160.429795</td>\n",
       "      <td id=\"T_1583f_row3_col42\" class=\"data row3 col42\" >5378.391041</td>\n",
       "      <td id=\"T_1583f_row3_col43\" class=\"data row3 col43\" >5589.048614</td>\n",
       "      <td id=\"T_1583f_row3_col44\" class=\"data row3 col44\" >5792.729910</td>\n",
       "      <td id=\"T_1583f_row3_col45\" class=\"data row3 col45\" >5991.419833</td>\n",
       "      <td id=\"T_1583f_row3_col46\" class=\"data row3 col46\" >6188.527212</td>\n",
       "      <td id=\"T_1583f_row3_col47\" class=\"data row3 col47\" >6385.452831</td>\n",
       "      <td id=\"T_1583f_row3_col48\" class=\"data row3 col48\" >6585.173052</td>\n",
       "      <td id=\"T_1583f_row3_col49\" class=\"data row3 col49\" >6789.893982</td>\n",
       "      <td id=\"T_1583f_row3_col50\" class=\"data row3 col50\" >6992.630590</td>\n",
       "      <td id=\"T_1583f_row3_col51\" class=\"data row3 col51\" >7190.777508</td>\n",
       "      <td id=\"T_1583f_row3_col52\" class=\"data row3 col52\" >7388.650614</td>\n",
       "      <td id=\"T_1583f_row3_col53\" class=\"data row3 col53\" >7572.470852</td>\n",
       "      <td id=\"T_1583f_row3_col54\" class=\"data row3 col54\" >7746.785902</td>\n",
       "      <td id=\"T_1583f_row3_col55\" class=\"data row3 col55\" >7926.308234</td>\n",
       "      <td id=\"T_1583f_row3_col56\" class=\"data row3 col56\" >8122.480384</td>\n",
       "      <td id=\"T_1583f_row3_col57\" class=\"data row3 col57\" >8333.732877</td>\n",
       "    </tr>\n",
       "    <tr>\n",
       "      <th id=\"T_1583f_level0_row4\" class=\"row_heading level0 row4\" >MAPE</th>\n",
       "      <td id=\"T_1583f_row4_col0\" class=\"data row4 col0\" >23.604992</td>\n",
       "      <td id=\"T_1583f_row4_col1\" class=\"data row4 col1\" >7.947031</td>\n",
       "      <td id=\"T_1583f_row4_col2\" class=\"data row4 col2\" >2.803413</td>\n",
       "      <td id=\"T_1583f_row4_col3\" class=\"data row4 col3\" >1.932294</td>\n",
       "      <td id=\"T_1583f_row4_col4\" class=\"data row4 col4\" >1.980187</td>\n",
       "      <td id=\"T_1583f_row4_col5\" class=\"data row4 col5\" >2.006761</td>\n",
       "      <td id=\"T_1583f_row4_col6\" class=\"data row4 col6\" >1.928050</td>\n",
       "      <td id=\"T_1583f_row4_col7\" class=\"data row4 col7\" >1.894573</td>\n",
       "      <td id=\"T_1583f_row4_col8\" class=\"data row4 col8\" >1.856003</td>\n",
       "      <td id=\"T_1583f_row4_col9\" class=\"data row4 col9\" >1.795446</td>\n",
       "      <td id=\"T_1583f_row4_col10\" class=\"data row4 col10\" >1.724092</td>\n",
       "      <td id=\"T_1583f_row4_col11\" class=\"data row4 col11\" >1.671692</td>\n",
       "      <td id=\"T_1583f_row4_col12\" class=\"data row4 col12\" >1.533540</td>\n",
       "      <td id=\"T_1583f_row4_col13\" class=\"data row4 col13\" >1.306568</td>\n",
       "      <td id=\"T_1583f_row4_col14\" class=\"data row4 col14\" >0.980362</td>\n",
       "      <td id=\"T_1583f_row4_col15\" class=\"data row4 col15\" >0.691571</td>\n",
       "      <td id=\"T_1583f_row4_col16\" class=\"data row4 col16\" >0.509494</td>\n",
       "      <td id=\"T_1583f_row4_col17\" class=\"data row4 col17\" >0.428717</td>\n",
       "      <td id=\"T_1583f_row4_col18\" class=\"data row4 col18\" >0.403783</td>\n",
       "      <td id=\"T_1583f_row4_col19\" class=\"data row4 col19\" >0.390056</td>\n",
       "      <td id=\"T_1583f_row4_col20\" class=\"data row4 col20\" >0.395699</td>\n",
       "      <td id=\"T_1583f_row4_col21\" class=\"data row4 col21\" >0.412230</td>\n",
       "      <td id=\"T_1583f_row4_col22\" class=\"data row4 col22\" >0.437459</td>\n",
       "      <td id=\"T_1583f_row4_col23\" class=\"data row4 col23\" >0.461093</td>\n",
       "      <td id=\"T_1583f_row4_col24\" class=\"data row4 col24\" >0.482574</td>\n",
       "      <td id=\"T_1583f_row4_col25\" class=\"data row4 col25\" >0.503437</td>\n",
       "      <td id=\"T_1583f_row4_col26\" class=\"data row4 col26\" >0.523943</td>\n",
       "      <td id=\"T_1583f_row4_col27\" class=\"data row4 col27\" >0.542803</td>\n",
       "      <td id=\"T_1583f_row4_col28\" class=\"data row4 col28\" >0.562249</td>\n",
       "      <td id=\"T_1583f_row4_col29\" class=\"data row4 col29\" >0.580681</td>\n",
       "      <td id=\"T_1583f_row4_col30\" class=\"data row4 col30\" >0.598128</td>\n",
       "      <td id=\"T_1583f_row4_col31\" class=\"data row4 col31\" >0.615073</td>\n",
       "      <td id=\"T_1583f_row4_col32\" class=\"data row4 col32\" >0.632384</td>\n",
       "      <td id=\"T_1583f_row4_col33\" class=\"data row4 col33\" >0.650224</td>\n",
       "      <td id=\"T_1583f_row4_col34\" class=\"data row4 col34\" >0.668697</td>\n",
       "      <td id=\"T_1583f_row4_col35\" class=\"data row4 col35\" >0.686315</td>\n",
       "      <td id=\"T_1583f_row4_col36\" class=\"data row4 col36\" >0.704223</td>\n",
       "      <td id=\"T_1583f_row4_col37\" class=\"data row4 col37\" >0.723534</td>\n",
       "      <td id=\"T_1583f_row4_col38\" class=\"data row4 col38\" >0.742600</td>\n",
       "      <td id=\"T_1583f_row4_col39\" class=\"data row4 col39\" >0.762505</td>\n",
       "      <td id=\"T_1583f_row4_col40\" class=\"data row4 col40\" >0.784695</td>\n",
       "      <td id=\"T_1583f_row4_col41\" class=\"data row4 col41\" >0.808602</td>\n",
       "      <td id=\"T_1583f_row4_col42\" class=\"data row4 col42\" >0.832547</td>\n",
       "      <td id=\"T_1583f_row4_col43\" class=\"data row4 col43\" >0.857117</td>\n",
       "      <td id=\"T_1583f_row4_col44\" class=\"data row4 col44\" >0.880543</td>\n",
       "      <td id=\"T_1583f_row4_col45\" class=\"data row4 col45\" >0.904003</td>\n",
       "      <td id=\"T_1583f_row4_col46\" class=\"data row4 col46\" >0.927139</td>\n",
       "      <td id=\"T_1583f_row4_col47\" class=\"data row4 col47\" >0.950385</td>\n",
       "      <td id=\"T_1583f_row4_col48\" class=\"data row4 col48\" >0.972392</td>\n",
       "      <td id=\"T_1583f_row4_col49\" class=\"data row4 col49\" >0.995764</td>\n",
       "      <td id=\"T_1583f_row4_col50\" class=\"data row4 col50\" >1.019384</td>\n",
       "      <td id=\"T_1583f_row4_col51\" class=\"data row4 col51\" >1.044051</td>\n",
       "      <td id=\"T_1583f_row4_col52\" class=\"data row4 col52\" >1.068581</td>\n",
       "      <td id=\"T_1583f_row4_col53\" class=\"data row4 col53\" >1.093200</td>\n",
       "      <td id=\"T_1583f_row4_col54\" class=\"data row4 col54\" >1.118864</td>\n",
       "      <td id=\"T_1583f_row4_col55\" class=\"data row4 col55\" >1.146818</td>\n",
       "      <td id=\"T_1583f_row4_col56\" class=\"data row4 col56\" >1.176270</td>\n",
       "      <td id=\"T_1583f_row4_col57\" class=\"data row4 col57\" >1.208865</td>\n",
       "    </tr>\n",
       "  </tbody>\n",
       "</table>\n"
      ],
      "text/plain": [
       "<pandas.io.formats.style.Styler at 0x29b2d9c8df0>"
      ]
     },
     "execution_count": 31,
     "metadata": {},
     "output_type": "execute_result"
    }
   ],
   "source": [
    "# show the evaluations highlighting the best metrics\n",
    "pd.DataFrame(eval_window_size).style.highlight_min(axis=1)"
   ]
  },
  {
   "cell_type": "markdown",
   "metadata": {},
   "source": [
    "Show the evolution of each metric as the size of each window increases."
   ]
  },
  {
   "cell_type": "code",
   "execution_count": 33,
   "metadata": {},
   "outputs": [
    {
     "data": {
      "image/png": "[encoded data removed]",
      "text/plain": [
       "<Figure size 576x720 with 5 Axes>"
      ]
     },
     "metadata": {
      "needs_background": "light"
     },
     "output_type": "display_data"
    }
   ],
   "source": [
    "# metric evolution subplots\n",
    "fig, ax = plt.subplots(5, figsize=(8, 10), tight_layout=True)\n",
    "pd.DataFrame(eval_window_size).T.plot(ax=ax, subplots=True)\n",
    "plt.show()"
   ]
  },
  {
   "cell_type": "markdown",
   "metadata": {},
   "source": [
    "In conclusion:\n",
    "- RMSLE increases drastically from window size 22 onwards. The MAE, RMSE and MAPE reach a minimum above window size 22 and do not vary much after that point.\n",
    "- The one with the best overall results is window of size 22. "
   ]
  },
  {
   "cell_type": "code",
   "execution_count": 45,
   "metadata": {},
   "outputs": [
    {
     "data": {
      "image/png": "[encoded data removed]",
      "text/plain": [
       "<Figure size 576x360 with 1 Axes>"
      ]
     },
     "metadata": {
      "needs_background": "light"
     },
     "output_type": "display_data"
    },
    {
     "data": {
      "image/png": "[encoded data removed]",
      "text/plain": [
       "<Figure size 576x360 with 1 Axes>"
      ]
     },
     "metadata": {
      "needs_background": "light"
     },
     "output_type": "display_data"
    },
    {
     "data": {
      "image/png": "[encoded data removed]",
      "text/plain": [
       "<Figure size 576x360 with 1 Axes>"
      ]
     },
     "metadata": {
      "needs_background": "light"
     },
     "output_type": "display_data"
    }
   ],
   "source": [
    "# create an object of the class\n",
    "w_22_14 = WindowFit(window_size=22, steps_ahead=14, data=test_data, eval_mode='WF')\n",
    "# get a random train and test window\n",
    "window_train, window_test = w_22_14.random_windows()\n",
    "# fit the model and get the predictions\n",
    "S_simulated, I_simulated, R_simulated = w_22_14.fit_predict(window_train, return_only_predictions=True)\n",
    "# fit model and plot the results for 3 random windows\n",
    "w_22_14.plot_windows(max_subplots=3)"
   ]
  },
  {
   "cell_type": "markdown",
   "metadata": {},
   "source": [
    "# Residuals exploration"
   ]
  },
  {
   "cell_type": "markdown",
   "metadata": {},
   "source": [
    "If the model has succeeded in capturing all the information and structure of the available data, then the residuals should be random. That is, residuals are the part left that cannot be predicted. The exploration of these residuals provides a better understanding of the model and its scope. If the study suggests that the residuals are not random, i.e., that they follow some pattern or structure, then the model can be improved. \n",
    "\n",
    "The residual errors for a time step ahead (t+14) are obtained below:"
   ]
  },
  {
   "cell_type": "code",
   "execution_count": 34,
   "metadata": {},
   "outputs": [],
   "source": [
    "w = WindowFit(window_size=22, steps_ahead=14, data=[S, I, R], eval_mode='WF')\t\n",
    "residuals = w.get_residuals(horizon=14) # residuals for the first time step (t+14)"
   ]
  },
  {
   "cell_type": "markdown",
   "metadata": {},
   "source": [
    "First, errors are ploted over time. If the model was perfect, the resulting plot should be iid noise, showing the residuals distributed around zero (zero mean) with no pattern (trend, seasonal components, etc.). Then, the distribution of errors is studied via hisotograms and density plots."
   ]
  },
  {
   "cell_type": "code",
   "execution_count": 35,
   "metadata": {},
   "outputs": [
    {
     "data": {
      "text/plain": [
       "[<matplotlib.lines.Line2D at 0x29b2e423c10>]"
      ]
     },
     "execution_count": 35,
     "metadata": {},
     "output_type": "execute_result"
    },
    {
     "data": {
      "image/png": "[encoded data removed]",
      "text/plain": [
       "<Figure size 432x288 with 1 Axes>"
      ]
     },
     "metadata": {
      "needs_background": "light"
     },
     "output_type": "display_data"
    }
   ],
   "source": [
    "# line plot of the residuals\n",
    "plt.plot(residuals)\n",
    "plt.plot(np.zeros(residuals.shape))"
   ]
  },
  {
   "cell_type": "markdown",
   "metadata": {},
   "source": [
    "Most residuals seem to be near to zero, although there are some extremely large errors. These values will cause the mean of the residuals to be a high negative number. In addition, these negative values mean that the model underpredicts: there are many more infected cases than expected by the model."
   ]
  },
  {
   "cell_type": "code",
   "execution_count": 49,
   "metadata": {},
   "outputs": [
    {
     "data": {
      "image/png": "[encoded data removed]",
      "text/plain": [
       "<Figure size 432x288 with 1 Axes>"
      ]
     },
     "metadata": {
      "needs_background": "light"
     },
     "output_type": "display_data"
    }
   ],
   "source": [
    "# histogram and density plot\n",
    "sns.histplot(residuals, kde=True, bins=40)\n",
    "plt.show()"
   ]
  },
  {
   "cell_type": "markdown",
   "metadata": {},
   "source": [
    "Histogram and density plot of residuals showing heavy tail to the left representing the large errors mentioned before."
   ]
  },
  {
   "cell_type": "markdown",
   "metadata": {},
   "source": [
    "The code below evaluate which distribution fits better to the data and returns its parameters."
   ]
  },
  {
   "cell_type": "code",
   "execution_count": 37,
   "metadata": {},
   "outputs": [],
   "source": [
    "# def get_best_distribution(data):\n",
    "#     dist_names = [\"norm\", \"exponweib\", \"weibull_max\", \"weibull_min\", \"pareto\", \"genextreme\"]\n",
    "#     dist_results = []\n",
    "#     params = {}\n",
    "#     for dist_name in dist_names:\n",
    "#         dist = getattr(st, dist_name)\n",
    "#         param = dist.fit(data)\n",
    "\n",
    "#         params[dist_name] = param\n",
    "#         # Applying the Kolmogorov-Smirnov test\n",
    "#         D, p = st.kstest(data, dist_name, args=param)\n",
    "#         # print(\"p value for \"+dist_name+\" = \"+str(p))\n",
    "#         dist_results.append((dist_name, p))\n",
    "\n",
    "#     # select the best fitted distribution\n",
    "#     best_dist, best_p = (max(dist_results, key=lambda item: item[1]))\n",
    "#     # store the name of the best fit and its p value\n",
    "\n",
    "#     print(\"Best fitting distribution: \"+str(best_dist))\n",
    "#     print(\"Best p value: \"+ str(best_p))\n",
    "#     print(\"Parameters for the best fit: \"+ str(params[best_dist]))\n",
    "\n",
    "#     return best_dist, best_p, params[best_dist]\n",
    "\n",
    "# get_best_distribution(residuals)"
   ]
  },
  {
   "cell_type": "markdown",
   "metadata": {},
   "source": [
    "Some statistics are now calculated to provide information on how the values are distributed around zero. If the model was perfect, then the mean would be zero; a negative mean represents a negative bias in the forecasts; a positive mean represents a positive bias."
   ]
  },
  {
   "cell_type": "code",
   "execution_count": 38,
   "metadata": {},
   "outputs": [
    {
     "data": {
      "text/html": [
       "<div>\n",
       "<style scoped>\n",
       "    .dataframe tbody tr th:only-of-type {\n",
       "        vertical-align: middle;\n",
       "    }\n",
       "\n",
       "    .dataframe tbody tr th {\n",
       "        vertical-align: top;\n",
       "    }\n",
       "\n",
       "    .dataframe thead th {\n",
       "        text-align: right;\n",
       "    }\n",
       "</style>\n",
       "<table border=\"1\" class=\"dataframe\">\n",
       "  <thead>\n",
       "    <tr style=\"text-align: right;\">\n",
       "      <th></th>\n",
       "      <th>0</th>\n",
       "    </tr>\n",
       "  </thead>\n",
       "  <tbody>\n",
       "    <tr>\n",
       "      <th>count</th>\n",
       "      <td>799.000000</td>\n",
       "    </tr>\n",
       "    <tr>\n",
       "      <th>mean</th>\n",
       "      <td>-8475.494554</td>\n",
       "    </tr>\n",
       "    <tr>\n",
       "      <th>std</th>\n",
       "      <td>39874.472341</td>\n",
       "    </tr>\n",
       "    <tr>\n",
       "      <th>min</th>\n",
       "      <td>-563858.156980</td>\n",
       "    </tr>\n",
       "    <tr>\n",
       "      <th>25%</th>\n",
       "      <td>-5061.884745</td>\n",
       "    </tr>\n",
       "    <tr>\n",
       "      <th>50%</th>\n",
       "      <td>-143.888755</td>\n",
       "    </tr>\n",
       "    <tr>\n",
       "      <th>75%</th>\n",
       "      <td>1170.916520</td>\n",
       "    </tr>\n",
       "    <tr>\n",
       "      <th>max</th>\n",
       "      <td>39153.093210</td>\n",
       "    </tr>\n",
       "    <tr>\n",
       "      <th>kurtosis</th>\n",
       "      <td>80.155308</td>\n",
       "    </tr>\n",
       "    <tr>\n",
       "      <th>skewness</th>\n",
       "      <td>-7.942315</td>\n",
       "    </tr>\n",
       "  </tbody>\n",
       "</table>\n",
       "</div>"
      ],
      "text/plain": [
       "                      0\n",
       "count        799.000000\n",
       "mean       -8475.494554\n",
       "std        39874.472341\n",
       "min      -563858.156980\n",
       "25%        -5061.884745\n",
       "50%         -143.888755\n",
       "75%         1170.916520\n",
       "max        39153.093210\n",
       "kurtosis      80.155308\n",
       "skewness      -7.942315"
      ]
     },
     "execution_count": 38,
     "metadata": {},
     "output_type": "execute_result"
    }
   ],
   "source": [
    "from scipy.stats import kurtosis, skew\n",
    "\n",
    "residuals_stats = pd.DataFrame(residuals).describe().T\n",
    "residuals_stats['kurtosis'] = kurtosis(residuals) # excess kurtosis of normal distribution (if normal, kurtosis is zero)\n",
    "residuals_stats['skewness'] = skew(residuals) # skewness of normal distribution (if normal, skewness is zero)\n",
    "residuals_stats.T"
   ]
  },
  {
   "cell_type": "markdown",
   "metadata": {},
   "source": [
    "- The mean is highly far from zero and negative (not even close to zero)\n",
    "- Skewness is highly negative, i.e, the distribution of residuals exceeds that value from the overall shape of a normal distribution.\n",
    "- Kurtosis is highly positive, i.e, the shape of the tails of the distribution of residuals exceeds that value from the shape of the tails of the normal distribution. The tails of this distribution are thicker than the normal dist."
   ]
  },
  {
   "cell_type": "markdown",
   "metadata": {},
   "source": [
    "Now the Q-Q plot is studied."
   ]
  },
  {
   "cell_type": "code",
   "execution_count": 55,
   "metadata": {},
   "outputs": [
    {
     "data": {
      "image/png": "[encoded data removed]",
      "text/plain": [
       "<Figure size 432x288 with 1 Axes>"
      ]
     },
     "metadata": {
      "needs_background": "light"
     },
     "output_type": "display_data"
    }
   ],
   "source": [
    "from statsmodels.graphics.gofplots import qqplot\n",
    "\n",
    "qqplot(residuals, line='r')\n",
    "plt.show()"
   ]
  },
  {
   "cell_type": "markdown",
   "metadata": {},
   "source": [
    "The Q-Q plot confirms that residuals distribution is normal too peaked in zero, with heavy tails (left end of the Q-Q plot deviate from the diagonal) in comparison with a normal distribution. The distribution is more dispersed (higher std) than a normal distribution."
   ]
  },
  {
   "cell_type": "markdown",
   "metadata": {},
   "source": [
    "The autocorrelation plot shows the relation between a observation with prior observations in time. Ideally the residuals should not be correlated (scores between the dashed and dotes lines in the plot)."
   ]
  },
  {
   "cell_type": "code",
   "execution_count": 56,
   "metadata": {},
   "outputs": [
    {
     "data": {
      "image/png": "[encoded data removed]",
      "text/plain": [
       "<Figure size 1080x432 with 2 Axes>"
      ]
     },
     "metadata": {
      "needs_background": "light"
     },
     "output_type": "display_data"
    }
   ],
   "source": [
    "from pandas.plotting import autocorrelation_plot\n",
    "\n",
    "plot_acf_pacf(residuals)\n",
    "plt.show()"
   ]
  },
  {
   "cell_type": "markdown",
   "metadata": {},
   "source": [
    "Since there exist significant autocorrelations in the plot, the model is missing information. The relationship between observations and lagged observations must be included in a model. "
   ]
  },
  {
   "cell_type": "markdown",
   "metadata": {},
   "source": [
    "Uncomment code below to study the residuals for different window sizes."
   ]
  },
  {
   "cell_type": "code",
   "execution_count": 42,
   "metadata": {},
   "outputs": [],
   "source": [
    "# def plot_residuals():\n",
    "#     for window_size in range(2, 14):\n",
    "#         print(f'Evaluating SIR for window size {window_size}...')\n",
    "#         w = WindowFit(window_size, 1, data=[S, I, R], eval_mode='WF')\n",
    "#         residuals = w.get_residuals(horizon=1)\n",
    "#         #line plot\n",
    "#         plt.plot(residuals)\n",
    "#         plt.plot(np.zeros(residuals.shape))\n",
    "#         plt.show()\n",
    "#         # histogram and density plot\n",
    "#         sns.histplot(residuals, kde=True, bins=40)\n",
    "#         plt.show()\n",
    "#         # qqplot\n",
    "#         qqplot(residuals, line='r')\n",
    "#         plt.show()\n",
    "#         # autocorrelation plot\n",
    "#         autocorrelation_plot(residuals)\n",
    "#         plt.show()\n",
    "#         # summary stats\n",
    "#         residuals_stats = pd.DataFrame(residuals).describe().T\n",
    "#         residuals_stats['kurtosis'] = kurtosis(residuals) # excess kurtosis of normal distribution (if normal, kurtosis is zero)\n",
    "#         residuals_stats['skewness'] = skew(residuals) # skewness of normal distribution (if normal, skewness is zero)\n",
    "#         display(residuals_stats.T)\n",
    "\n",
    "# plot_residuals()"
   ]
  },
  {
   "cell_type": "markdown",
   "metadata": {},
   "source": [
    "# Conclusion:\n",
    "- The residuals obtained with this model are not random, indicating that SIR model has failed in explaining the behaviuor of the system. "
   ]
  }
 ],
 "metadata": {
  "interpreter": {
   "hash": "9550b5a459d5f7ed4643d0c4d08bfbf37947d957a5804ee567dda1fe7e321631"
  },
  "kernelspec": {
   "display_name": "Python 3.9.12 ('base')",
   "language": "python",
   "name": "python3"
  },
  "language_info": {
   "codemirror_mode": {
    "name": "ipython",
    "version": 3
   },
   "file_extension": ".py",
   "mimetype": "text/x-python",
   "name": "python",
   "nbconvert_exporter": "python",
   "pygments_lexer": "ipython3",
   "version": "3.9.12"
  },
  "orig_nbformat": 4
 },
 "nbformat": 4,
 "nbformat_minor": 2
}
