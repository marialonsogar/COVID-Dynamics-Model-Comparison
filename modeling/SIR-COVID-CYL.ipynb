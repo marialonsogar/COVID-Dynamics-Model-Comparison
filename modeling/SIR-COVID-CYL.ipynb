{
 "cells": [
  {
   "cell_type": "code",
   "execution_count": 70,
   "metadata": {},
   "outputs": [],
   "source": [
    "import os\n",
    "\n",
    "import numpy as np\n",
    "import pandas as pd\n",
    "import matplotlib as mpl\n",
    "import matplotlib.pyplot as plt\n",
    "plt.style.use('seaborn-white')\n",
    "\n",
    "%matplotlib inline\n",
    "\n",
    "from scipy.stats import gamma, poisson\n",
    "\n",
    "import epyestim\n",
    "import epyestim.covid19 as covid19"
   ]
  },
  {
   "cell_type": "code",
   "execution_count": 73,
   "metadata": {},
   "outputs": [
    {
     "data": {
      "text/plain": [
       "<AxesSubplot:xlabel='Date'>"
      ]
     },
     "execution_count": 73,
     "metadata": {},
     "output_type": "execute_result"
    },
    {
     "data": {
      "image/png": "[encoded data removed]",
      "text/plain": [
       "<Figure size 432x288 with 1 Axes>"
      ]
     },
     "metadata": {
      "needs_background": "light"
     },
     "output_type": "display_data"
    }
   ],
   "source": [
    "from utils import load_last_final_data\n",
    "df_ma = load_last_final_data(from_folder='final')\n",
    "infected = df_ma['Infected']\n",
    "infected.plot()"
   ]
  },
  {
   "cell_type": "code",
   "execution_count": 75,
   "metadata": {},
   "outputs": [],
   "source": [
    "df = df_ma.copy()"
   ]
  },
  {
   "cell_type": "code",
   "execution_count": 76,
   "metadata": {},
   "outputs": [],
   "source": [
    "# constant population\n",
    "POPULATION = df['Population'].mean()\n",
    "\n",
    "df2 = df[['Infected', 'Deaths', 'Recovered']]"
   ]
  },
  {
   "cell_type": "code",
   "execution_count": 77,
   "metadata": {},
   "outputs": [],
   "source": [
    "# Confirmed, Deaths, Recovered and Active cases to SIR form\n",
    "def CDRA_to_SIR(df, population):\n",
    "    df2 = df[[]].copy()\n",
    "    df2[\"S\"] = 0  # Just to produce the desired order\n",
    "    df2[\"I\"] = df[[\"Infected\"]]\n",
    "    df2[\"R\"] = df[\"Deaths\"] + df[\"Recovered\"]\n",
    "    df2[\"S\"] = population - df2[\"I\"] - df2[\"R\"]\n",
    "    return df2"
   ]
  },
  {
   "cell_type": "code",
   "execution_count": 79,
   "metadata": {},
   "outputs": [
    {
     "data": {
      "text/html": [
       "<div>\n",
       "<style scoped>\n",
       "    .dataframe tbody tr th:only-of-type {\n",
       "        vertical-align: middle;\n",
       "    }\n",
       "\n",
       "    .dataframe tbody tr th {\n",
       "        vertical-align: top;\n",
       "    }\n",
       "\n",
       "    .dataframe thead th {\n",
       "        text-align: right;\n",
       "    }\n",
       "</style>\n",
       "<table border=\"1\" class=\"dataframe\">\n",
       "  <thead>\n",
       "    <tr style=\"text-align: right;\">\n",
       "      <th></th>\n",
       "      <th>S</th>\n",
       "      <th>I</th>\n",
       "      <th>R</th>\n",
       "    </tr>\n",
       "    <tr>\n",
       "      <th>Date</th>\n",
       "      <th></th>\n",
       "      <th></th>\n",
       "      <th></th>\n",
       "    </tr>\n",
       "  </thead>\n",
       "  <tbody>\n",
       "    <tr>\n",
       "      <th>2020-03-02</th>\n",
       "      <td>46796514.0</td>\n",
       "      <td>26.0</td>\n",
       "      <td>0.0</td>\n",
       "    </tr>\n",
       "    <tr>\n",
       "      <th>2020-03-03</th>\n",
       "      <td>46796502.0</td>\n",
       "      <td>38.0</td>\n",
       "      <td>0.0</td>\n",
       "    </tr>\n",
       "    <tr>\n",
       "      <th>2020-03-04</th>\n",
       "      <td>46796489.0</td>\n",
       "      <td>51.0</td>\n",
       "      <td>0.0</td>\n",
       "    </tr>\n",
       "    <tr>\n",
       "      <th>2020-03-05</th>\n",
       "      <td>46796465.0</td>\n",
       "      <td>75.0</td>\n",
       "      <td>0.0</td>\n",
       "    </tr>\n",
       "    <tr>\n",
       "      <th>2020-03-06</th>\n",
       "      <td>46796428.0</td>\n",
       "      <td>110.0</td>\n",
       "      <td>2.0</td>\n",
       "    </tr>\n",
       "    <tr>\n",
       "      <th>...</th>\n",
       "      <td>...</td>\n",
       "      <td>...</td>\n",
       "      <td>...</td>\n",
       "    </tr>\n",
       "    <tr>\n",
       "      <th>2021-11-26</th>\n",
       "      <td>46784303.0</td>\n",
       "      <td>7935.0</td>\n",
       "      <td>4302.0</td>\n",
       "    </tr>\n",
       "    <tr>\n",
       "      <th>2021-11-27</th>\n",
       "      <td>46783605.0</td>\n",
       "      <td>8263.0</td>\n",
       "      <td>4672.0</td>\n",
       "    </tr>\n",
       "    <tr>\n",
       "      <th>2021-11-28</th>\n",
       "      <td>46783051.0</td>\n",
       "      <td>8458.0</td>\n",
       "      <td>5031.0</td>\n",
       "    </tr>\n",
       "    <tr>\n",
       "      <th>2021-11-29</th>\n",
       "      <td>46782156.0</td>\n",
       "      <td>8944.0</td>\n",
       "      <td>5440.0</td>\n",
       "    </tr>\n",
       "    <tr>\n",
       "      <th>2021-11-30</th>\n",
       "      <td>46781328.0</td>\n",
       "      <td>9542.0</td>\n",
       "      <td>5670.0</td>\n",
       "    </tr>\n",
       "  </tbody>\n",
       "</table>\n",
       "<p>639 rows × 3 columns</p>\n",
       "</div>"
      ],
      "text/plain": [
       "                     S       I       R\n",
       "Date                                  \n",
       "2020-03-02  46796514.0    26.0     0.0\n",
       "2020-03-03  46796502.0    38.0     0.0\n",
       "2020-03-04  46796489.0    51.0     0.0\n",
       "2020-03-05  46796465.0    75.0     0.0\n",
       "2020-03-06  46796428.0   110.0     2.0\n",
       "...                ...     ...     ...\n",
       "2021-11-26  46784303.0  7935.0  4302.0\n",
       "2021-11-27  46783605.0  8263.0  4672.0\n",
       "2021-11-28  46783051.0  8458.0  5031.0\n",
       "2021-11-29  46782156.0  8944.0  5440.0\n",
       "2021-11-30  46781328.0  9542.0  5670.0\n",
       "\n",
       "[639 rows x 3 columns]"
      ]
     },
     "execution_count": 79,
     "metadata": {},
     "output_type": "execute_result"
    }
   ],
   "source": [
    "# transform data\n",
    "df3 = CDRA_to_SIR(df2, POPULATION)\n",
    "df3"
   ]
  },
  {
   "cell_type": "code",
   "execution_count": null,
   "metadata": {},
   "outputs": [],
   "source": [
    "# use day count instead of datetime\n",
    "t = np.linspace(0, len(df3)-1, len(df3))\n",
    "\n",
    "# S, I, R to array\n",
    "S = df3['S'].values\n",
    "I = df3['I'].values\n",
    "R = df3['R'].values"
   ]
  },
  {
   "cell_type": "markdown",
   "metadata": {},
   "source": [
    "Estimation of Rt"
   ]
  },
  {
   "cell_type": "code",
   "execution_count": 67,
   "metadata": {},
   "outputs": [
    {
     "data": {
      "text/html": [
       "<div>\n",
       "<style scoped>\n",
       "    .dataframe tbody tr th:only-of-type {\n",
       "        vertical-align: middle;\n",
       "    }\n",
       "\n",
       "    .dataframe tbody tr th {\n",
       "        vertical-align: top;\n",
       "    }\n",
       "\n",
       "    .dataframe thead th {\n",
       "        text-align: right;\n",
       "    }\n",
       "</style>\n",
       "<table border=\"1\" class=\"dataframe\">\n",
       "  <thead>\n",
       "    <tr style=\"text-align: right;\">\n",
       "      <th></th>\n",
       "      <th>cases</th>\n",
       "      <th>R_mean</th>\n",
       "      <th>R_var</th>\n",
       "      <th>Q0.025</th>\n",
       "      <th>Q0.5</th>\n",
       "      <th>Q0.975</th>\n",
       "    </tr>\n",
       "  </thead>\n",
       "  <tbody>\n",
       "    <tr>\n",
       "      <th>2020-03-07</th>\n",
       "      <td>149.0</td>\n",
       "      <td>4.412855</td>\n",
       "      <td>0.004128</td>\n",
       "      <td>4.287892</td>\n",
       "      <td>4.412546</td>\n",
       "      <td>4.539175</td>\n",
       "    </tr>\n",
       "    <tr>\n",
       "      <th>2020-03-08</th>\n",
       "      <td>197.0</td>\n",
       "      <td>3.213834</td>\n",
       "      <td>0.001815</td>\n",
       "      <td>3.130864</td>\n",
       "      <td>3.213646</td>\n",
       "      <td>3.298195</td>\n",
       "    </tr>\n",
       "    <tr>\n",
       "      <th>2020-03-09</th>\n",
       "      <td>279.0</td>\n",
       "      <td>2.514719</td>\n",
       "      <td>0.000950</td>\n",
       "      <td>2.454840</td>\n",
       "      <td>2.514594</td>\n",
       "      <td>2.575310</td>\n",
       "    </tr>\n",
       "    <tr>\n",
       "      <th>2020-03-10</th>\n",
       "      <td>415.0</td>\n",
       "      <td>2.156711</td>\n",
       "      <td>0.000594</td>\n",
       "      <td>2.109013</td>\n",
       "      <td>2.156620</td>\n",
       "      <td>2.204757</td>\n",
       "    </tr>\n",
       "    <tr>\n",
       "      <th>2020-03-11</th>\n",
       "      <td>593.0</td>\n",
       "      <td>2.007928</td>\n",
       "      <td>0.000433</td>\n",
       "      <td>1.967419</td>\n",
       "      <td>2.007857</td>\n",
       "      <td>2.048845</td>\n",
       "    </tr>\n",
       "  </tbody>\n",
       "</table>\n",
       "</div>"
      ],
      "text/plain": [
       "            cases    R_mean     R_var    Q0.025      Q0.5    Q0.975\n",
       "2020-03-07  149.0  4.412855  0.004128  4.287892  4.412546  4.539175\n",
       "2020-03-08  197.0  3.213834  0.001815  3.130864  3.213646  3.298195\n",
       "2020-03-09  279.0  2.514719  0.000950  2.454840  2.514594  2.575310\n",
       "2020-03-10  415.0  2.156711  0.000594  2.109013  2.156620  2.204757\n",
       "2020-03-11  593.0  2.007928  0.000433  1.967419  2.007857  2.048845"
      ]
     },
     "execution_count": 67,
     "metadata": {},
     "output_type": "execute_result"
    }
   ],
   "source": [
    "ch_time_varying_r = covid19.r_covid(df_ma)\n",
    "\n",
    "ch_time_varying_r.head()"
   ]
  },
  {
   "cell_type": "code",
   "execution_count": 69,
   "metadata": {},
   "outputs": [
    {
     "data": {
      "image/png": "[encoded data removed]",
      "text/plain": [
       "<Figure size 864x288 with 1 Axes>"
      ]
     },
     "metadata": {
      "needs_background": "light"
     },
     "output_type": "display_data"
    }
   ],
   "source": [
    "fig, ax = plt.subplots(1,1, figsize=(12, 4))\n",
    "\n",
    "ch_time_varying_r.loc[:,'Q0.5'].plot(ax=ax, color='red')\n",
    "ax.fill_between(ch_time_varying_r.index, \n",
    "                    ch_time_varying_r['Q0.025'], \n",
    "                    ch_time_varying_r['Q0.975'], \n",
    "                    color='red', alpha=0.2)\n",
    "ax.set_xlabel('date')\n",
    "ax.set_ylabel('R(t) with 95%-CI')\n",
    "ax.set_ylim([0,3])\n",
    "ax.axhline(y=1)\n",
    "ax.set_title('Estimate of time-varying effective reproduction number for Spain')\n",
    "plt.show()"
   ]
  },
  {
   "cell_type": "markdown",
   "metadata": {},
   "source": [
    "Estimation of beta"
   ]
  },
  {
   "cell_type": "code",
   "execution_count": 85,
   "metadata": {},
   "outputs": [],
   "source": [
    "S_t_fraction = df3['S'][ch_time_varying_r.index] / POPULATION\n",
    "duration_of_infectiousness = 1/14\n",
    "\n",
    "R_t = ch_time_varying_r.loc[:,'Q0.5']\n",
    "\n",
    "beta_t = R_t * 1/(S_t_fraction) * (1/duration_of_infectiousness)"
   ]
  },
  {
   "cell_type": "code",
   "execution_count": 86,
   "metadata": {},
   "outputs": [
    {
     "data": {
      "text/plain": [
       "[<matplotlib.lines.Line2D at 0x147b57d3220>]"
      ]
     },
     "execution_count": 86,
     "metadata": {},
     "output_type": "execute_result"
    },
    {
     "data": {
      "image/png": "[encoded data removed]",
      "text/plain": [
       "<Figure size 432x288 with 1 Axes>"
      ]
     },
     "metadata": {
      "needs_background": "light"
     },
     "output_type": "display_data"
    }
   ],
   "source": [
    "plt.plot(beta_t)"
   ]
  },
  {
   "cell_type": "code",
   "execution_count": 145,
   "metadata": {},
   "outputs": [
    {
     "data": {
      "text/html": [
       "<div>\n",
       "<style scoped>\n",
       "    .dataframe tbody tr th:only-of-type {\n",
       "        vertical-align: middle;\n",
       "    }\n",
       "\n",
       "    .dataframe tbody tr th {\n",
       "        vertical-align: top;\n",
       "    }\n",
       "\n",
       "    .dataframe thead th {\n",
       "        text-align: right;\n",
       "    }\n",
       "</style>\n",
       "<table border=\"1\" class=\"dataframe\">\n",
       "  <thead>\n",
       "    <tr style=\"text-align: right;\">\n",
       "      <th></th>\n",
       "      <th>S</th>\n",
       "      <th>I</th>\n",
       "      <th>R</th>\n",
       "    </tr>\n",
       "  </thead>\n",
       "  <tbody>\n",
       "    <tr>\n",
       "      <th>2020-04-16</th>\n",
       "      <td>46787332.0</td>\n",
       "      <td>3448.0</td>\n",
       "      <td>5760.0</td>\n",
       "    </tr>\n",
       "    <tr>\n",
       "      <th>2020-04-17</th>\n",
       "      <td>46787846.0</td>\n",
       "      <td>3308.0</td>\n",
       "      <td>5386.0</td>\n",
       "    </tr>\n",
       "    <tr>\n",
       "      <th>2020-04-18</th>\n",
       "      <td>46788205.0</td>\n",
       "      <td>3180.0</td>\n",
       "      <td>5155.0</td>\n",
       "    </tr>\n",
       "    <tr>\n",
       "      <th>2020-04-19</th>\n",
       "      <td>46788660.0</td>\n",
       "      <td>3047.0</td>\n",
       "      <td>4833.0</td>\n",
       "    </tr>\n",
       "    <tr>\n",
       "      <th>2020-04-20</th>\n",
       "      <td>46789099.0</td>\n",
       "      <td>2960.0</td>\n",
       "      <td>4481.0</td>\n",
       "    </tr>\n",
       "    <tr>\n",
       "      <th>2020-04-21</th>\n",
       "      <td>46789518.0</td>\n",
       "      <td>2779.0</td>\n",
       "      <td>4243.0</td>\n",
       "    </tr>\n",
       "    <tr>\n",
       "      <th>2020-04-22</th>\n",
       "      <td>46789762.0</td>\n",
       "      <td>2645.0</td>\n",
       "      <td>4133.0</td>\n",
       "    </tr>\n",
       "    <tr>\n",
       "      <th>2020-04-23</th>\n",
       "      <td>46790253.0</td>\n",
       "      <td>2475.0</td>\n",
       "      <td>3812.0</td>\n",
       "    </tr>\n",
       "    <tr>\n",
       "      <th>2020-04-24</th>\n",
       "      <td>46790617.0</td>\n",
       "      <td>2307.0</td>\n",
       "      <td>3616.0</td>\n",
       "    </tr>\n",
       "    <tr>\n",
       "      <th>2020-04-25</th>\n",
       "      <td>46790992.0</td>\n",
       "      <td>2179.0</td>\n",
       "      <td>3369.0</td>\n",
       "    </tr>\n",
       "    <tr>\n",
       "      <th>2020-04-26</th>\n",
       "      <td>46791245.0</td>\n",
       "      <td>2090.0</td>\n",
       "      <td>3205.0</td>\n",
       "    </tr>\n",
       "    <tr>\n",
       "      <th>2020-04-27</th>\n",
       "      <td>46791502.0</td>\n",
       "      <td>1966.0</td>\n",
       "      <td>3072.0</td>\n",
       "    </tr>\n",
       "    <tr>\n",
       "      <th>2020-04-28</th>\n",
       "      <td>46791768.0</td>\n",
       "      <td>1825.0</td>\n",
       "      <td>2947.0</td>\n",
       "    </tr>\n",
       "    <tr>\n",
       "      <th>2020-04-29</th>\n",
       "      <td>46792079.0</td>\n",
       "      <td>1641.0</td>\n",
       "      <td>2820.0</td>\n",
       "    </tr>\n",
       "    <tr>\n",
       "      <th>2020-04-30</th>\n",
       "      <td>46792266.0</td>\n",
       "      <td>1529.0</td>\n",
       "      <td>2745.0</td>\n",
       "    </tr>\n",
       "    <tr>\n",
       "      <th>2020-05-01</th>\n",
       "      <td>46792656.0</td>\n",
       "      <td>1316.0</td>\n",
       "      <td>2568.0</td>\n",
       "    </tr>\n",
       "    <tr>\n",
       "      <th>2020-05-02</th>\n",
       "      <td>46792876.0</td>\n",
       "      <td>1213.0</td>\n",
       "      <td>2451.0</td>\n",
       "    </tr>\n",
       "    <tr>\n",
       "      <th>2020-05-03</th>\n",
       "      <td>46793088.0</td>\n",
       "      <td>1160.0</td>\n",
       "      <td>2292.0</td>\n",
       "    </tr>\n",
       "    <tr>\n",
       "      <th>2020-05-04</th>\n",
       "      <td>46793333.0</td>\n",
       "      <td>1068.0</td>\n",
       "      <td>2139.0</td>\n",
       "    </tr>\n",
       "    <tr>\n",
       "      <th>2020-05-05</th>\n",
       "      <td>46793560.0</td>\n",
       "      <td>960.0</td>\n",
       "      <td>2020.0</td>\n",
       "    </tr>\n",
       "    <tr>\n",
       "      <th>2020-05-06</th>\n",
       "      <td>46793713.0</td>\n",
       "      <td>889.0</td>\n",
       "      <td>1938.0</td>\n",
       "    </tr>\n",
       "    <tr>\n",
       "      <th>2020-05-07</th>\n",
       "      <td>46793896.0</td>\n",
       "      <td>820.0</td>\n",
       "      <td>1824.0</td>\n",
       "    </tr>\n",
       "    <tr>\n",
       "      <th>2020-05-08</th>\n",
       "      <td>46793999.0</td>\n",
       "      <td>838.0</td>\n",
       "      <td>1703.0</td>\n",
       "    </tr>\n",
       "    <tr>\n",
       "      <th>2020-05-09</th>\n",
       "      <td>46794190.0</td>\n",
       "      <td>827.0</td>\n",
       "      <td>1523.0</td>\n",
       "    </tr>\n",
       "  </tbody>\n",
       "</table>\n",
       "</div>"
      ],
      "text/plain": [
       "                     S       I       R\n",
       "2020-04-16  46787332.0  3448.0  5760.0\n",
       "2020-04-17  46787846.0  3308.0  5386.0\n",
       "2020-04-18  46788205.0  3180.0  5155.0\n",
       "2020-04-19  46788660.0  3047.0  4833.0\n",
       "2020-04-20  46789099.0  2960.0  4481.0\n",
       "2020-04-21  46789518.0  2779.0  4243.0\n",
       "2020-04-22  46789762.0  2645.0  4133.0\n",
       "2020-04-23  46790253.0  2475.0  3812.0\n",
       "2020-04-24  46790617.0  2307.0  3616.0\n",
       "2020-04-25  46790992.0  2179.0  3369.0\n",
       "2020-04-26  46791245.0  2090.0  3205.0\n",
       "2020-04-27  46791502.0  1966.0  3072.0\n",
       "2020-04-28  46791768.0  1825.0  2947.0\n",
       "2020-04-29  46792079.0  1641.0  2820.0\n",
       "2020-04-30  46792266.0  1529.0  2745.0\n",
       "2020-05-01  46792656.0  1316.0  2568.0\n",
       "2020-05-02  46792876.0  1213.0  2451.0\n",
       "2020-05-03  46793088.0  1160.0  2292.0\n",
       "2020-05-04  46793333.0  1068.0  2139.0\n",
       "2020-05-05  46793560.0   960.0  2020.0\n",
       "2020-05-06  46793713.0   889.0  1938.0\n",
       "2020-05-07  46793896.0   820.0  1824.0\n",
       "2020-05-08  46793999.0   838.0  1703.0\n",
       "2020-05-09  46794190.0   827.0  1523.0"
      ]
     },
     "execution_count": 145,
     "metadata": {},
     "output_type": "execute_result"
    }
   ],
   "source": [
    "window = df3.loc[ch_time_varying_r.index][40:64]\n",
    "window"
   ]
  },
  {
   "cell_type": "code",
   "execution_count": 150,
   "metadata": {},
   "outputs": [
    {
     "data": {
      "text/plain": [
       "10.7699095701911"
      ]
     },
     "execution_count": 150,
     "metadata": {},
     "output_type": "execute_result"
    }
   ],
   "source": [
    "beta = beta_t[40:64-14].mean()\n",
    "beta"
   ]
  },
  {
   "cell_type": "code",
   "execution_count": 148,
   "metadata": {},
   "outputs": [],
   "source": [
    "import numpy as np\n",
    "from scipy.integrate import odeint\n",
    "import matplotlib.pyplot as plt\n",
    "\n",
    "# Total population, N.\n",
    "N = POPULATION\n",
    "# Initial number of infected and recovered individuals, I0 and R0.\n",
    "I0, R0 = window['I'][-14], window['R'][-14]\n",
    "# Everyone else, S0, is susceptible to infection initially.\n",
    "S0 = window['S'][-14]\n",
    "\n",
    "# Contact rate, beta, and mean recovery rate, gamma, (in 1/days).\n",
    "beta, gamma = beta, 1./14 \n",
    "# A grid of time points (in days)\n",
    "\n",
    "t = np.linspace(0, len(window), len(window))\n",
    "\n",
    "# The SIR model differential equations.\n",
    "def deriv(y, t, N, beta, gamma):\n",
    "    S, I, R = y\n",
    "    dSdt = -beta * S * I / N\n",
    "    dIdt = beta * S * I / N - gamma * I\n",
    "    dRdt = gamma * I\n",
    "    return dSdt, dIdt, dRdt\n",
    "\n",
    "# Initial conditions vector\n",
    "y0 = S0, I0, R0\n",
    "# Integrate the SIR equations over the time grid, t.\n",
    "ret = odeint(deriv, y0, t, args=(N, beta, gamma))\n",
    "\n",
    "S, I, R = ret.T"
   ]
  },
  {
   "cell_type": "code",
   "execution_count": 149,
   "metadata": {},
   "outputs": [
    {
     "data": {
      "text/plain": [
       "[<matplotlib.lines.Line2D at 0x147b4a36d60>]"
      ]
     },
     "execution_count": 149,
     "metadata": {},
     "output_type": "execute_result"
    },
    {
     "data": {
      "image/png": "[encoded data removed]",
      "text/plain": [
       "<Figure size 432x288 with 1 Axes>"
      ]
     },
     "metadata": {
      "needs_background": "light"
     },
     "output_type": "display_data"
    }
   ],
   "source": [
    "plt.plot(I)\n",
    "plt.plot(window['I'].values)"
   ]
  },
  {
   "cell_type": "code",
   "execution_count": null,
   "metadata": {},
   "outputs": [],
   "source": []
  }
 ],
 "metadata": {
  "kernelspec": {
   "display_name": "Python 3.9.1 64-bit",
   "language": "python",
   "name": "python3"
  },
  "language_info": {
   "codemirror_mode": {
    "name": "ipython",
    "version": 3
   },
   "file_extension": ".py",
   "mimetype": "text/x-python",
   "name": "python",
   "nbconvert_exporter": "python",
   "pygments_lexer": "ipython3",
   "version": "3.9.1"
  },
  "orig_nbformat": 4,
  "vscode": {
   "interpreter": {
    "hash": "c8c743905bc2ee8c9ed05ae377a3a8ee6d3dfe3b64b4447ae11452d0acb97050"
   }
  }
 },
 "nbformat": 4,
 "nbformat_minor": 2
}
